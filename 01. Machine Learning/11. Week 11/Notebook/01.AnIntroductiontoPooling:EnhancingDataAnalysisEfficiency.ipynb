{
  "nbformat": 4,
  "nbformat_minor": 0,
  "metadata": {
    "colab": {
      "provenance": [],
      "authorship_tag": "ABX9TyMHCkLX7ugOzWhZGGM/3WLh",
      "include_colab_link": true
    },
    "kernelspec": {
      "name": "python3",
      "display_name": "Python 3"
    },
    "language_info": {
      "name": "python"
    }
  },
  "cells": [
    {
      "cell_type": "markdown",
      "metadata": {
        "id": "view-in-github",
        "colab_type": "text"
      },
      "source": [
        "<a href=\"https://colab.research.google.com/github/farrelrassya/teachingMLDL/blob/main/01.%20Machine%20Learning/11.%20Week%2011/Notebook/01.AnIntroductiontoPooling%3AEnhancingDataAnalysisEfficiency.ipynb\" target=\"_parent\"><img src=\"https://colab.research.google.com/assets/colab-badge.svg\" alt=\"Open In Colab\"/></a>"
      ]
    },
    {
      "cell_type": "markdown",
      "source": [
        "#Introduction to Pooling in Convolutional Neural Networks (CNNs)\n",
        "\n",
        "Pooling is a fundamental operation in CNNs that reduces the spatial dimensions of feature maps while retaining their most relevant features. By summarizing local regions of the feature map, pooling helps manage computational complexity, mitigate overfitting, and introduce a degree of translational invariance.\n",
        "\n",
        "Purpose:  \n",
        "Convolutional layers extract features from the input through learnable filters. Without dimensionality reduction, the spatial dimensions remain large, leading to excessive computational cost and a high risk of overfitting. Pooling provides a solution by downsampling the feature maps, focusing the network on salient features and ignoring unnecessary spatial details.\n",
        "\n",
        "Types of Pooling:  \n",
        "1. Max Pooling: Selects the maximum value within a defined local window (e.g., $2 \\times 2$).  \n",
        "2. Average Pooling: Computes the average value of the elements in the local window.  \n",
        "3. Other Variants: L2-norm pooling or global pooling methods like Global Average Pooling (GAP), which aggregates information over the entire spatial dimension of the feature map.\n",
        "\n",
        "Mathematical Formulations:  \n",
        "Let $X$ be an input feature map of dimensions $H \\times W \\times D$.  \n",
        "Define a pooling window of size $k \\times k$, and a stride $s$.\n",
        "\n",
        "The output dimensions are given by:  \n",
        "$$H' = \\frac{H - k}{s} + 1$$  \n",
        "$$W' = \\frac{W - k}{s} + 1$$\n",
        "\n",
        "For Max Pooling:  \n",
        "$$\\text{PoolingOutput}(x,y) = \\max_{(i,j) \\in W} X(i,j)$$\n",
        "\n",
        "For Average Pooling:  \n",
        "$$\\text{PoolingOutput}(x,y) = \\frac{1}{|W|}\\sum_{(i,j)\\in W} X(i,j)$$  \n",
        "Here, $|W| = k^2$ for a $k \\times k$ window.\n",
        "\n",
        "Intuition:  \n",
        "Pooling layers discard fine spatial details and retain only key information. This reduces the feature map size, lowers the number of parameters in subsequent layers, and can improve generalization. The reduced spatial resolution helps the model become less sensitive to minor variations in the input, thereby aiding in robust feature extraction.\n",
        "\n",
        "Role in CNN Architecture:  \n",
        "A common sequence in CNNs is: Convolution → Nonlinearity (e.g., ReLU) → Pooling  \n",
        "This pattern builds a hierarchy of features, with pooling layers progressively decreasing the spatial dimension and focusing on more abstract representations.\n",
        "\n",
        "Global Pooling:  \n",
        "Global Average Pooling (GAP) reduces each feature map to a single value, removing spatial dimensions entirely. This is often employed near the end of a CNN to connect the convolutional features directly to classification layers without large fully connected layers.\n",
        "\n",
        "Modern Considerations:  \n",
        "Some architectures replace pooling with strided convolutions to learn the downsampling operation. Nevertheless, pooling remains widely used due to its simplicity and efficacy.\n",
        "\n",
        "Summary:  \n",
        "Pooling is a key operation that addresses the challenges of large spatial dimensions in CNNs. It helps manage model complexity, reduce overfitting, and promotes invariance to small input shifts. Understanding pooling and its variants is crucial for designing effective, efficient CNN architectures.\n"
      ],
      "metadata": {
        "id": "znwQqnr9dGiL"
      }
    },
    {
      "cell_type": "code",
      "execution_count": 1,
      "metadata": {
        "id": "Z-VNyaUdivy6",
        "colab": {
          "base_uri": "https://localhost:8080/"
        },
        "outputId": "0519fbf4-d2ec-438f-9e0b-9df896fa38c0"
      },
      "outputs": [
        {
          "output_type": "stream",
          "name": "stdout",
          "text": [
            "Original Matrix:\n",
            "[[1 3 2 1]\n",
            " [5 6 7 8]\n",
            " [9 2 4 6]\n",
            " [1 0 2 3]]\n",
            "\n",
            "Pooled Matrix (Max Pooling):\n",
            "[[6. 8.]\n",
            " [9. 6.]]\n"
          ]
        }
      ],
      "source": [
        "import numpy as np\n",
        "## ([1,3\n",
        "##   5,6])\n",
        "## ([2,1\n",
        "##   7,8])\n",
        "## ([9,2\n",
        "##   1,0])\n",
        "## ([4,6\n",
        "##   2,3])\n",
        "\n",
        "# Original matrix (tensor)\n",
        "original_matrix = np.array([\n",
        "    [1, 3, 2, 1],\n",
        "    [5, 6, 7, 8],\n",
        "    [9, 2, 4, 6],\n",
        "    [1, 0, 2, 3]\n",
        "])\n",
        "\n",
        "# Function for max pooling 2x2 with stride 2\n",
        "def max_pooling(matrix, pool_size=2, stride=2):\n",
        "    rows, cols = matrix.shape\n",
        "    output_rows = (rows - pool_size) // stride + 1\n",
        "    output_cols = (cols - pool_size) // stride + 1\n",
        "    pooled_matrix = np.zeros((output_rows, output_cols))\n",
        "\n",
        "    for i in range(0, rows - pool_size + 1, stride):\n",
        "        for j in range(0, cols - pool_size + 1, stride):\n",
        "            pooled_matrix[i // stride, j // stride] = np.max(matrix[i:i+pool_size, j:j+pool_size])\n",
        "\n",
        "    return pooled_matrix\n",
        "\n",
        "# Apply max pooling\n",
        "pooled_matrix = max_pooling(original_matrix)\n",
        "\n",
        "# Print original and pooled matrices\n",
        "print(\"Original Matrix:\")\n",
        "print(original_matrix)\n",
        "print(\"\\nPooled Matrix (Max Pooling):\")\n",
        "print(pooled_matrix)"
      ]
    },
    {
      "cell_type": "code",
      "source": [
        "import numpy as np\n",
        "\n",
        "# Original matrix (tensor)\n",
        "original_matrix = np.array([\n",
        "    [1, 3, 2, 1],\n",
        "    [5, 6, 7, 8],\n",
        "    [9, 2, 4, 6],\n",
        "    [1, 0, 2, 3]\n",
        "])\n",
        "\n",
        "# Function for max pooling 2x2 with stride 2\n",
        "def max_pooling(matrix, pool_size=2, stride=2):\n",
        "    rows, cols = matrix.shape\n",
        "    output_rows = (rows - pool_size) // stride + 1\n",
        "    output_cols = (cols - pool_size) // stride + 1\n",
        "    pooled_matrix = np.zeros((output_rows, output_cols))\n",
        "\n",
        "    for i in range(0, rows - pool_size + 1, stride):\n",
        "        for j in range(0, cols - pool_size + 1, stride):\n",
        "            pooled_matrix[i // stride, j // stride] = np.max(matrix[i:i+pool_size, j:j+pool_size])\n",
        "\n",
        "    return pooled_matrix\n",
        "\n",
        "# Function for average pooling 2x2 with stride 2\n",
        "def avg_pooling(matrix, pool_size=2, stride=2):\n",
        "    rows, cols = matrix.shape\n",
        "    output_rows = (rows - pool_size) // stride + 1\n",
        "    output_cols = (cols - pool_size) // stride + 1\n",
        "    pooled_matrix = np.zeros((output_rows, output_cols))\n",
        "\n",
        "    for i in range(0, rows - pool_size + 1, stride):\n",
        "        for j in range(0, cols - pool_size + 1, stride):\n",
        "            pooled_matrix[i // stride, j // stride] = np.mean(matrix[i:i+pool_size, j:j+pool_size])\n",
        "\n",
        "    return pooled_matrix\n",
        "\n",
        "# Function for global pooling (max or average)\n",
        "def global_pooling(matrix, mode='max'):\n",
        "    if mode == 'max':\n",
        "        return np.max(matrix)\n",
        "    elif mode == 'avg':\n",
        "        return np.mean(matrix)\n",
        "    else:\n",
        "        raise ValueError(\"Mode should be 'max' or 'avg'.\")\n",
        "\n",
        "# Apply pooling\n",
        "max_pooled = max_pooling(original_matrix)\n",
        "avg_pooled = avg_pooling(original_matrix)\n",
        "global_max = global_pooling(original_matrix, mode='max')\n",
        "global_avg = global_pooling(original_matrix, mode='avg')\n",
        "\n",
        "# Print results\n",
        "print(\"Original Matrix:\")\n",
        "print(original_matrix)\n",
        "\n",
        "print(\"\\nMax Pooled Matrix (2x2, stride 2):\")\n",
        "print(max_pooled)\n",
        "\n",
        "print(\"\\nAverage Pooled Matrix (2x2, stride 2):\")\n",
        "print(avg_pooled)\n",
        "\n",
        "print(\"\\nGlobal Max Pooling:\")\n",
        "print(global_max)\n",
        "\n",
        "print(\"\\nGlobal Average Pooling:\")\n",
        "print(global_avg)"
      ],
      "metadata": {
        "colab": {
          "base_uri": "https://localhost:8080/"
        },
        "id": "c4_0tMnKYj35",
        "outputId": "6a65ebfb-4a1e-4f82-ea95-c7fe13239443"
      },
      "execution_count": 2,
      "outputs": [
        {
          "output_type": "stream",
          "name": "stdout",
          "text": [
            "Original Matrix:\n",
            "[[1 3 2 1]\n",
            " [5 6 7 8]\n",
            " [9 2 4 6]\n",
            " [1 0 2 3]]\n",
            "\n",
            "Max Pooled Matrix (2x2, stride 2):\n",
            "[[6. 8.]\n",
            " [9. 6.]]\n",
            "\n",
            "Average Pooled Matrix (2x2, stride 2):\n",
            "[[3.75 4.5 ]\n",
            " [3.   3.75]]\n",
            "\n",
            "Global Max Pooling:\n",
            "9\n",
            "\n",
            "Global Average Pooling:\n",
            "3.75\n"
          ]
        }
      ]
    },
    {
      "cell_type": "code",
      "source": [],
      "metadata": {
        "id": "YYr3CD-rY9Uw"
      },
      "execution_count": null,
      "outputs": []
    }
  ]
}