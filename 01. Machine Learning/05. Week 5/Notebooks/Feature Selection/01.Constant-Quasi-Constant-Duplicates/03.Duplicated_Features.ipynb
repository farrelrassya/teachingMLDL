{
  "nbformat": 4,
  "nbformat_minor": 0,
  "metadata": {
    "colab": {
      "provenance": [],
      "authorship_tag": "ABX9TyOr7+73ZXL4fD6R5iVHrOiU",
      "include_colab_link": true
    },
    "kernelspec": {
      "name": "python3",
      "display_name": "Python 3"
    },
    "language_info": {
      "name": "python"
    }
  },
  "cells": [
    {
      "cell_type": "markdown",
      "metadata": {
        "id": "view-in-github",
        "colab_type": "text"
      },
      "source": [
        "<a href=\"https://colab.research.google.com/github/farrelrassya/FeatureSelectionforMachineLearning/blob/main/01.Constant-Quasi-Constant-Duplicates/03.Duplicated_Features.ipynb\" target=\"_parent\"><img src=\"https://colab.research.google.com/assets/colab-badge.svg\" alt=\"Open In Colab\"/></a>"
      ]
    },
    {
      "cell_type": "markdown",
      "source": [
        "Duplicated features\n",
        "Often datasets contain duplicated features, that is, features that despite having different names, are identical.\n",
        "\n",
        "In addition, we may often introduce duplicated features when performing one hot encoding of categorical variables, particularly if our datasets have many and /or highly cardinal categorical variables.\n",
        "\n",
        "Identifying and removing duplicated, and therefore redundant features, is an easy first step towards feature selection and more interpretable machine learning models.\n",
        "\n",
        "Here I will demonstrate how to identify duplicated features using a dataset that I created for this course.\n",
        "\n",
        "There is no function in Pandas to find duplicated columns. So we need to write a bit code to do so.\n",
        "\n",
        "Note Finding duplicated features can be a computationally costly operation in Python, therefore depending on the size of your dataset, you might not always be able to do it.\n",
        "\n",
        "This method that I describe here to find duplicated features works for both numerical and categorical variables."
      ],
      "metadata": {
        "id": "tf2CTzHjD4jW"
      }
    },
    {
      "cell_type": "code",
      "execution_count": null,
      "metadata": {
        "id": "97uQSB4FD0ad"
      },
      "outputs": [],
      "source": [
        "import pandas as pd\n",
        "import numpy as np\n",
        "\n",
        "from sklearn.model_selection import train_test_split"
      ]
    },
    {
      "cell_type": "code",
      "source": [
        "data = pd.read_csv('dataset_1.csv')\n",
        "data.shape"
      ],
      "metadata": {
        "colab": {
          "base_uri": "https://localhost:8080/"
        },
        "id": "WZ_bAnBGaqow",
        "outputId": "fad8699b-711e-4c74-b0d6-750d1c8658d2"
      },
      "execution_count": null,
      "outputs": [
        {
          "output_type": "execute_result",
          "data": {
            "text/plain": [
              "(50000, 301)"
            ]
          },
          "metadata": {},
          "execution_count": 2
        }
      ]
    },
    {
      "cell_type": "code",
      "source": [
        "[col for col in data.columns if data[col].isnull().sum() > 0]"
      ],
      "metadata": {
        "colab": {
          "base_uri": "https://localhost:8080/"
        },
        "id": "maskZ7Y2avm4",
        "outputId": "4a6d9411-f2c0-4171-f7c4-3f980e0004f9"
      },
      "execution_count": null,
      "outputs": [
        {
          "output_type": "execute_result",
          "data": {
            "text/plain": [
              "[]"
            ]
          },
          "metadata": {},
          "execution_count": 3
        }
      ]
    },
    {
      "cell_type": "markdown",
      "source": [
        "**Important**\n",
        "\n",
        "In all feature selection procedures, it is good practice to select the features by examining only the training set. And this is to avoid overfit."
      ],
      "metadata": {
        "id": "TBFBjoIsNFzt"
      }
    },
    {
      "cell_type": "code",
      "source": [
        "# separate dataset into train and test\n",
        "\n",
        "X_train, X_test, y_train, y_test = train_test_split(\n",
        "    data.drop(labels=['target'], axis=1), # drop the target\n",
        "    data['target'], # just the target\n",
        "    test_size=0.3,\n",
        "    random_state=0)\n",
        "\n",
        "X_train.shape, X_test.shape"
      ],
      "metadata": {
        "id": "x7xt1_apbjML",
        "colab": {
          "base_uri": "https://localhost:8080/"
        },
        "outputId": "cfbeb033-8d13-4e7e-9274-fa1a25e337ef"
      },
      "execution_count": null,
      "outputs": [
        {
          "output_type": "execute_result",
          "data": {
            "text/plain": [
              "((35000, 300), (15000, 300))"
            ]
          },
          "metadata": {},
          "execution_count": 4
        }
      ]
    },
    {
      "cell_type": "markdown",
      "source": [
        "**Remove constant and quasi-constant**"
      ],
      "metadata": {
        "id": "G0CTvBMyNKdF"
      }
    },
    {
      "cell_type": "code",
      "source": [
        "# remove constant and quasi-constant features first:\n",
        "# we can remove the 2 types of features together with this code\n",
        "# (we used it in our previous notebook)\n",
        "\n",
        "# create an empty list\n",
        "quasi_constant_feat = []\n",
        "\n",
        "# iterate over every feature\n",
        "for feature in X_train.columns:\n",
        "\n",
        "    # find the predominant value, that is the value that is shared\n",
        "    # by most observations\n",
        "    predominant = (X_train[feature].value_counts() / float(\n",
        "        len(X_train))).sort_values(ascending=False).values[0]\n",
        "\n",
        "    # evaluate predominant feature: do more than 99% of the observations\n",
        "    # show 1 value?\n",
        "    if predominant > 0.998:\n",
        "        quasi_constant_feat.append(feature)\n",
        "\n",
        "len(quasi_constant_feat)"
      ],
      "metadata": {
        "colab": {
          "base_uri": "https://localhost:8080/"
        },
        "id": "7KYR9WoONIY7",
        "outputId": "a6b9f4f9-3cd9-400c-fa2d-9ac8097ff4ad"
      },
      "execution_count": null,
      "outputs": [
        {
          "output_type": "execute_result",
          "data": {
            "text/plain": [
              "142"
            ]
          },
          "metadata": {},
          "execution_count": 5
        }
      ]
    },
    {
      "cell_type": "code",
      "source": [
        "# we can then drop these columns from the train and test sets:\n",
        "\n",
        "X_train.drop(labels=quasi_constant_feat, axis=1, inplace=True)\n",
        "X_test.drop(labels=quasi_constant_feat, axis=1, inplace=True)\n",
        "\n",
        "X_train.shape, X_test.shape"
      ],
      "metadata": {
        "colab": {
          "base_uri": "https://localhost:8080/"
        },
        "id": "jwPauSk7NMte",
        "outputId": "c6ab6e5a-aeea-4b1e-9550-c5f85aa07a78"
      },
      "execution_count": null,
      "outputs": [
        {
          "output_type": "execute_result",
          "data": {
            "text/plain": [
              "((35000, 158), (15000, 158))"
            ]
          },
          "metadata": {},
          "execution_count": 6
        }
      ]
    },
    {
      "cell_type": "markdown",
      "source": [
        "**Remove duplicated features**\n",
        "To identify duplicated variables we need to iterate through all features of our dataset, and for each and every feature, try and find others that are identical, or duplicates.\n",
        "\n",
        "We will create a dictionary of {variable: duplicated variables} pairs to identify them more easily throughout the demo. Keep in mind that in a dataset, there could be 2 or more features that are identical to each other."
      ],
      "metadata": {
        "id": "foyR77oBNSRS"
      }
    },
    {
      "cell_type": "code",
      "source": [
        "# check for duplicated features in the training set:\n",
        "\n",
        "# create an empty dictionary, where we will store\n",
        "# the groups of duplicates\n",
        "duplicated_feat_pairs = {}\n",
        "\n",
        "# create an empty list to collect features\n",
        "# that were found to be duplicated\n",
        "_duplicated_feat = []\n",
        "\n",
        "\n",
        "# iterate over every feature in our dataset:\n",
        "for i in range(0, len(X_train.columns)):\n",
        "\n",
        "    # this bit helps me understand where the loop is at:\n",
        "    if i % 10 == 0:\n",
        "        print(i)\n",
        "\n",
        "    # choose 1 feature:\n",
        "    feat_1 = X_train.columns[i]\n",
        "\n",
        "    # check if this feature has already been identified\n",
        "    # as a duplicate of another one. If it was, it should be stored in\n",
        "    # our _duplicated_feat list.\n",
        "\n",
        "    # If this feature was already identified as a duplicate, we skip it, if\n",
        "    # it has not yet been identified as a duplicate, then we proceed:\n",
        "    if feat_1 not in _duplicated_feat:\n",
        "\n",
        "        # create an empty list as an entry for this feature in the dictionary:\n",
        "        duplicated_feat_pairs[feat_1] = []\n",
        "\n",
        "        # now, iterate over the remaining features of the dataset:\n",
        "        for feat_2 in X_train.columns[i + 1:]:\n",
        "\n",
        "            # check if this second feature is identical to the first one\n",
        "            if X_train[feat_1].equals(X_train[feat_2]):\n",
        "\n",
        "                # if it is identical, append it to the list in the dictionary\n",
        "                duplicated_feat_pairs[feat_1].append(feat_2)\n",
        "\n",
        "                # and append it to our monitor list for duplicated variables\n",
        "                _duplicated_feat.append(feat_2)\n",
        "\n",
        "                # done!"
      ],
      "metadata": {
        "colab": {
          "base_uri": "https://localhost:8080/"
        },
        "id": "TZzHnk_ENPfZ",
        "outputId": "a64e0cdd-9ee0-4407-c6ed-2d40a779d294"
      },
      "execution_count": null,
      "outputs": [
        {
          "output_type": "stream",
          "name": "stdout",
          "text": [
            "0\n",
            "10\n",
            "20\n",
            "30\n",
            "40\n",
            "50\n",
            "60\n",
            "70\n",
            "80\n",
            "90\n",
            "100\n",
            "110\n",
            "120\n",
            "130\n",
            "140\n",
            "150\n"
          ]
        }
      ]
    },
    {
      "cell_type": "code",
      "source": [
        "# let's explore our list of duplicated features\n",
        "len(_duplicated_feat)"
      ],
      "metadata": {
        "colab": {
          "base_uri": "https://localhost:8080/"
        },
        "id": "RmcBP0z9NXpc",
        "outputId": "5e50dcfb-b8b5-45f1-a241-831070836559"
      },
      "execution_count": null,
      "outputs": [
        {
          "output_type": "execute_result",
          "data": {
            "text/plain": [
              "6"
            ]
          },
          "metadata": {},
          "execution_count": 8
        }
      ]
    },
    {
      "cell_type": "code",
      "source": [
        "# these are the ones:\n",
        "\n",
        "_duplicated_feat"
      ],
      "metadata": {
        "colab": {
          "base_uri": "https://localhost:8080/"
        },
        "id": "JzoYcggMNaQt",
        "outputId": "f60430a7-4131-419b-b875-37c774d405d0"
      },
      "execution_count": null,
      "outputs": [
        {
          "output_type": "execute_result",
          "data": {
            "text/plain": [
              "['var_148', 'var_199', 'var_296', 'var_250', 'var_232', 'var_269']"
            ]
          },
          "metadata": {},
          "execution_count": 9
        }
      ]
    },
    {
      "cell_type": "code",
      "source": [
        "# let's explore the dictionary we created:\n",
        "\n",
        "duplicated_feat_pairs"
      ],
      "metadata": {
        "colab": {
          "base_uri": "https://localhost:8080/"
        },
        "id": "7GzsAZXDNcab",
        "outputId": "d52fcb7f-7b63-4516-ec0b-af670a41db9f"
      },
      "execution_count": null,
      "outputs": [
        {
          "output_type": "execute_result",
          "data": {
            "text/plain": [
              "{'var_4': [],\n",
              " 'var_5': [],\n",
              " 'var_8': [],\n",
              " 'var_13': [],\n",
              " 'var_15': [],\n",
              " 'var_17': [],\n",
              " 'var_18': [],\n",
              " 'var_19': [],\n",
              " 'var_21': [],\n",
              " 'var_22': [],\n",
              " 'var_25': [],\n",
              " 'var_26': [],\n",
              " 'var_27': [],\n",
              " 'var_29': [],\n",
              " 'var_30': [],\n",
              " 'var_31': [],\n",
              " 'var_35': [],\n",
              " 'var_37': ['var_148'],\n",
              " 'var_38': [],\n",
              " 'var_41': [],\n",
              " 'var_46': [],\n",
              " 'var_47': [],\n",
              " 'var_49': [],\n",
              " 'var_50': [],\n",
              " 'var_51': [],\n",
              " 'var_52': [],\n",
              " 'var_54': [],\n",
              " 'var_55': [],\n",
              " 'var_57': [],\n",
              " 'var_58': [],\n",
              " 'var_62': [],\n",
              " 'var_63': [],\n",
              " 'var_64': [],\n",
              " 'var_68': [],\n",
              " 'var_70': [],\n",
              " 'var_74': [],\n",
              " 'var_75': [],\n",
              " 'var_76': [],\n",
              " 'var_79': [],\n",
              " 'var_82': [],\n",
              " 'var_83': [],\n",
              " 'var_84': ['var_199'],\n",
              " 'var_85': [],\n",
              " 'var_86': [],\n",
              " 'var_88': [],\n",
              " 'var_91': [],\n",
              " 'var_93': [],\n",
              " 'var_94': [],\n",
              " 'var_96': [],\n",
              " 'var_100': [],\n",
              " 'var_101': [],\n",
              " 'var_103': [],\n",
              " 'var_105': [],\n",
              " 'var_107': [],\n",
              " 'var_108': [],\n",
              " 'var_109': [],\n",
              " 'var_110': [],\n",
              " 'var_114': [],\n",
              " 'var_117': [],\n",
              " 'var_118': [],\n",
              " 'var_119': [],\n",
              " 'var_121': [],\n",
              " 'var_123': [],\n",
              " 'var_128': [],\n",
              " 'var_131': [],\n",
              " 'var_132': [],\n",
              " 'var_134': [],\n",
              " 'var_137': [],\n",
              " 'var_139': [],\n",
              " 'var_140': [],\n",
              " 'var_143': ['var_296'],\n",
              " 'var_144': [],\n",
              " 'var_145': [],\n",
              " 'var_147': [],\n",
              " 'var_152': [],\n",
              " 'var_154': [],\n",
              " 'var_155': [],\n",
              " 'var_156': [],\n",
              " 'var_157': [],\n",
              " 'var_160': [],\n",
              " 'var_161': [],\n",
              " 'var_162': [],\n",
              " 'var_163': [],\n",
              " 'var_164': [],\n",
              " 'var_165': [],\n",
              " 'var_166': [],\n",
              " 'var_168': [],\n",
              " 'var_169': [],\n",
              " 'var_172': [],\n",
              " 'var_173': [],\n",
              " 'var_174': [],\n",
              " 'var_175': [],\n",
              " 'var_176': [],\n",
              " 'var_177': ['var_250'],\n",
              " 'var_179': [],\n",
              " 'var_181': [],\n",
              " 'var_185': [],\n",
              " 'var_186': [],\n",
              " 'var_188': [],\n",
              " 'var_190': [],\n",
              " 'var_191': [],\n",
              " 'var_192': [],\n",
              " 'var_193': [],\n",
              " 'var_194': [],\n",
              " 'var_198': [],\n",
              " 'var_200': [],\n",
              " 'var_203': [],\n",
              " 'var_205': [],\n",
              " 'var_206': [],\n",
              " 'var_207': [],\n",
              " 'var_208': [],\n",
              " 'var_209': [],\n",
              " 'var_213': [],\n",
              " 'var_214': [],\n",
              " 'var_218': [],\n",
              " 'var_220': [],\n",
              " 'var_222': [],\n",
              " 'var_226': ['var_232'],\n",
              " 'var_229': ['var_269'],\n",
              " 'var_230': [],\n",
              " 'var_231': [],\n",
              " 'var_238': [],\n",
              " 'var_240': [],\n",
              " 'var_241': [],\n",
              " 'var_242': [],\n",
              " 'var_244': [],\n",
              " 'var_252': [],\n",
              " 'var_253': [],\n",
              " 'var_255': [],\n",
              " 'var_256': [],\n",
              " 'var_258': [],\n",
              " 'var_259': [],\n",
              " 'var_261': [],\n",
              " 'var_262': [],\n",
              " 'var_266': [],\n",
              " 'var_268': [],\n",
              " 'var_270': [],\n",
              " 'var_271': [],\n",
              " 'var_272': [],\n",
              " 'var_273': [],\n",
              " 'var_275': [],\n",
              " 'var_276': [],\n",
              " 'var_277': [],\n",
              " 'var_278': [],\n",
              " 'var_279': [],\n",
              " 'var_281': [],\n",
              " 'var_284': [],\n",
              " 'var_288': [],\n",
              " 'var_292': [],\n",
              " 'var_293': [],\n",
              " 'var_295': [],\n",
              " 'var_300': []}"
            ]
          },
          "metadata": {},
          "execution_count": 10
        }
      ]
    },
    {
      "cell_type": "markdown",
      "source": [
        "We see that for every feature, if it had duplicates, we have entries in the list, otherwise, we have empty lists. Let's explore those features with duplicates now:"
      ],
      "metadata": {
        "id": "iv8Ker7VNgHU"
      }
    },
    {
      "cell_type": "code",
      "source": [
        "# let's explore the number of keys in our dictionary\n",
        "\n",
        "# we see it is 152, because 6 of the 158 were duplicates,\n",
        "# so they were not included as keys\n",
        "\n",
        "print(len(duplicated_feat_pairs.keys()))"
      ],
      "metadata": {
        "colab": {
          "base_uri": "https://localhost:8080/"
        },
        "id": "haDugl-MNd3d",
        "outputId": "57fdb2c2-1aed-4551-f97f-4c742e858217"
      },
      "execution_count": null,
      "outputs": [
        {
          "output_type": "stream",
          "name": "stdout",
          "text": [
            "152\n"
          ]
        }
      ]
    },
    {
      "cell_type": "code",
      "source": [
        "# print the features with its duplicates\n",
        "\n",
        "# iterate over every feature in our dict:\n",
        "for feat in duplicated_feat_pairs.keys():\n",
        "\n",
        "    # if it has duplicates, the list should not be empty:\n",
        "    if len(duplicated_feat_pairs[feat]) > 0:\n",
        "\n",
        "        # print the feature and its duplicates:\n",
        "        print(feat, duplicated_feat_pairs[feat])\n",
        "        print()"
      ],
      "metadata": {
        "colab": {
          "base_uri": "https://localhost:8080/"
        },
        "id": "J32YhuhLNirq",
        "outputId": "c3ed14f0-9f74-4507-99c6-146866b6bdbb"
      },
      "execution_count": null,
      "outputs": [
        {
          "output_type": "stream",
          "name": "stdout",
          "text": [
            "var_37 ['var_148']\n",
            "\n",
            "var_84 ['var_199']\n",
            "\n",
            "var_143 ['var_296']\n",
            "\n",
            "var_177 ['var_250']\n",
            "\n",
            "var_226 ['var_232']\n",
            "\n",
            "var_229 ['var_269']\n",
            "\n"
          ]
        }
      ]
    },
    {
      "cell_type": "code",
      "source": [
        "# let's check that indeed those features are duplicated\n",
        "# I select a pair from above\n",
        "\n",
        "X_train[['var_37', 'var_148']].head(10)"
      ],
      "metadata": {
        "colab": {
          "base_uri": "https://localhost:8080/",
          "height": 363
        },
        "id": "6H__WRw2NlFt",
        "outputId": "56cb5dfa-5f0d-4629-ffc1-ca1132805e7f"
      },
      "execution_count": null,
      "outputs": [
        {
          "output_type": "execute_result",
          "data": {
            "text/plain": [
              "       var_37  var_148\n",
              "17967       0        0\n",
              "32391       0        0\n",
              "9341        0        0\n",
              "7929        0        0\n",
              "46544       0        0\n",
              "4149        0        0\n",
              "33426       0        0\n",
              "3002        0        0\n",
              "6974        0        0\n",
              "16864       0        0"
            ],
            "text/html": [
              "\n",
              "  <div id=\"df-7d79b5d6-4a4a-4e2c-8490-2c566b691089\" class=\"colab-df-container\">\n",
              "    <div>\n",
              "<style scoped>\n",
              "    .dataframe tbody tr th:only-of-type {\n",
              "        vertical-align: middle;\n",
              "    }\n",
              "\n",
              "    .dataframe tbody tr th {\n",
              "        vertical-align: top;\n",
              "    }\n",
              "\n",
              "    .dataframe thead th {\n",
              "        text-align: right;\n",
              "    }\n",
              "</style>\n",
              "<table border=\"1\" class=\"dataframe\">\n",
              "  <thead>\n",
              "    <tr style=\"text-align: right;\">\n",
              "      <th></th>\n",
              "      <th>var_37</th>\n",
              "      <th>var_148</th>\n",
              "    </tr>\n",
              "  </thead>\n",
              "  <tbody>\n",
              "    <tr>\n",
              "      <th>17967</th>\n",
              "      <td>0</td>\n",
              "      <td>0</td>\n",
              "    </tr>\n",
              "    <tr>\n",
              "      <th>32391</th>\n",
              "      <td>0</td>\n",
              "      <td>0</td>\n",
              "    </tr>\n",
              "    <tr>\n",
              "      <th>9341</th>\n",
              "      <td>0</td>\n",
              "      <td>0</td>\n",
              "    </tr>\n",
              "    <tr>\n",
              "      <th>7929</th>\n",
              "      <td>0</td>\n",
              "      <td>0</td>\n",
              "    </tr>\n",
              "    <tr>\n",
              "      <th>46544</th>\n",
              "      <td>0</td>\n",
              "      <td>0</td>\n",
              "    </tr>\n",
              "    <tr>\n",
              "      <th>4149</th>\n",
              "      <td>0</td>\n",
              "      <td>0</td>\n",
              "    </tr>\n",
              "    <tr>\n",
              "      <th>33426</th>\n",
              "      <td>0</td>\n",
              "      <td>0</td>\n",
              "    </tr>\n",
              "    <tr>\n",
              "      <th>3002</th>\n",
              "      <td>0</td>\n",
              "      <td>0</td>\n",
              "    </tr>\n",
              "    <tr>\n",
              "      <th>6974</th>\n",
              "      <td>0</td>\n",
              "      <td>0</td>\n",
              "    </tr>\n",
              "    <tr>\n",
              "      <th>16864</th>\n",
              "      <td>0</td>\n",
              "      <td>0</td>\n",
              "    </tr>\n",
              "  </tbody>\n",
              "</table>\n",
              "</div>\n",
              "    <div class=\"colab-df-buttons\">\n",
              "\n",
              "  <div class=\"colab-df-container\">\n",
              "    <button class=\"colab-df-convert\" onclick=\"convertToInteractive('df-7d79b5d6-4a4a-4e2c-8490-2c566b691089')\"\n",
              "            title=\"Convert this dataframe to an interactive table.\"\n",
              "            style=\"display:none;\">\n",
              "\n",
              "  <svg xmlns=\"http://www.w3.org/2000/svg\" height=\"24px\" viewBox=\"0 -960 960 960\">\n",
              "    <path d=\"M120-120v-720h720v720H120Zm60-500h600v-160H180v160Zm220 220h160v-160H400v160Zm0 220h160v-160H400v160ZM180-400h160v-160H180v160Zm440 0h160v-160H620v160ZM180-180h160v-160H180v160Zm440 0h160v-160H620v160Z\"/>\n",
              "  </svg>\n",
              "    </button>\n",
              "\n",
              "  <style>\n",
              "    .colab-df-container {\n",
              "      display:flex;\n",
              "      gap: 12px;\n",
              "    }\n",
              "\n",
              "    .colab-df-convert {\n",
              "      background-color: #E8F0FE;\n",
              "      border: none;\n",
              "      border-radius: 50%;\n",
              "      cursor: pointer;\n",
              "      display: none;\n",
              "      fill: #1967D2;\n",
              "      height: 32px;\n",
              "      padding: 0 0 0 0;\n",
              "      width: 32px;\n",
              "    }\n",
              "\n",
              "    .colab-df-convert:hover {\n",
              "      background-color: #E2EBFA;\n",
              "      box-shadow: 0px 1px 2px rgba(60, 64, 67, 0.3), 0px 1px 3px 1px rgba(60, 64, 67, 0.15);\n",
              "      fill: #174EA6;\n",
              "    }\n",
              "\n",
              "    .colab-df-buttons div {\n",
              "      margin-bottom: 4px;\n",
              "    }\n",
              "\n",
              "    [theme=dark] .colab-df-convert {\n",
              "      background-color: #3B4455;\n",
              "      fill: #D2E3FC;\n",
              "    }\n",
              "\n",
              "    [theme=dark] .colab-df-convert:hover {\n",
              "      background-color: #434B5C;\n",
              "      box-shadow: 0px 1px 3px 1px rgba(0, 0, 0, 0.15);\n",
              "      filter: drop-shadow(0px 1px 2px rgba(0, 0, 0, 0.3));\n",
              "      fill: #FFFFFF;\n",
              "    }\n",
              "  </style>\n",
              "\n",
              "    <script>\n",
              "      const buttonEl =\n",
              "        document.querySelector('#df-7d79b5d6-4a4a-4e2c-8490-2c566b691089 button.colab-df-convert');\n",
              "      buttonEl.style.display =\n",
              "        google.colab.kernel.accessAllowed ? 'block' : 'none';\n",
              "\n",
              "      async function convertToInteractive(key) {\n",
              "        const element = document.querySelector('#df-7d79b5d6-4a4a-4e2c-8490-2c566b691089');\n",
              "        const dataTable =\n",
              "          await google.colab.kernel.invokeFunction('convertToInteractive',\n",
              "                                                    [key], {});\n",
              "        if (!dataTable) return;\n",
              "\n",
              "        const docLinkHtml = 'Like what you see? Visit the ' +\n",
              "          '<a target=\"_blank\" href=https://colab.research.google.com/notebooks/data_table.ipynb>data table notebook</a>'\n",
              "          + ' to learn more about interactive tables.';\n",
              "        element.innerHTML = '';\n",
              "        dataTable['output_type'] = 'display_data';\n",
              "        await google.colab.output.renderOutput(dataTable, element);\n",
              "        const docLink = document.createElement('div');\n",
              "        docLink.innerHTML = docLinkHtml;\n",
              "        element.appendChild(docLink);\n",
              "      }\n",
              "    </script>\n",
              "  </div>\n",
              "\n",
              "\n",
              "<div id=\"df-454a2a15-650d-495f-b3e2-ee8a82a5fdaa\">\n",
              "  <button class=\"colab-df-quickchart\" onclick=\"quickchart('df-454a2a15-650d-495f-b3e2-ee8a82a5fdaa')\"\n",
              "            title=\"Suggest charts\"\n",
              "            style=\"display:none;\">\n",
              "\n",
              "<svg xmlns=\"http://www.w3.org/2000/svg\" height=\"24px\"viewBox=\"0 0 24 24\"\n",
              "     width=\"24px\">\n",
              "    <g>\n",
              "        <path d=\"M19 3H5c-1.1 0-2 .9-2 2v14c0 1.1.9 2 2 2h14c1.1 0 2-.9 2-2V5c0-1.1-.9-2-2-2zM9 17H7v-7h2v7zm4 0h-2V7h2v10zm4 0h-2v-4h2v4z\"/>\n",
              "    </g>\n",
              "</svg>\n",
              "  </button>\n",
              "\n",
              "<style>\n",
              "  .colab-df-quickchart {\n",
              "      --bg-color: #E8F0FE;\n",
              "      --fill-color: #1967D2;\n",
              "      --hover-bg-color: #E2EBFA;\n",
              "      --hover-fill-color: #174EA6;\n",
              "      --disabled-fill-color: #AAA;\n",
              "      --disabled-bg-color: #DDD;\n",
              "  }\n",
              "\n",
              "  [theme=dark] .colab-df-quickchart {\n",
              "      --bg-color: #3B4455;\n",
              "      --fill-color: #D2E3FC;\n",
              "      --hover-bg-color: #434B5C;\n",
              "      --hover-fill-color: #FFFFFF;\n",
              "      --disabled-bg-color: #3B4455;\n",
              "      --disabled-fill-color: #666;\n",
              "  }\n",
              "\n",
              "  .colab-df-quickchart {\n",
              "    background-color: var(--bg-color);\n",
              "    border: none;\n",
              "    border-radius: 50%;\n",
              "    cursor: pointer;\n",
              "    display: none;\n",
              "    fill: var(--fill-color);\n",
              "    height: 32px;\n",
              "    padding: 0;\n",
              "    width: 32px;\n",
              "  }\n",
              "\n",
              "  .colab-df-quickchart:hover {\n",
              "    background-color: var(--hover-bg-color);\n",
              "    box-shadow: 0 1px 2px rgba(60, 64, 67, 0.3), 0 1px 3px 1px rgba(60, 64, 67, 0.15);\n",
              "    fill: var(--button-hover-fill-color);\n",
              "  }\n",
              "\n",
              "  .colab-df-quickchart-complete:disabled,\n",
              "  .colab-df-quickchart-complete:disabled:hover {\n",
              "    background-color: var(--disabled-bg-color);\n",
              "    fill: var(--disabled-fill-color);\n",
              "    box-shadow: none;\n",
              "  }\n",
              "\n",
              "  .colab-df-spinner {\n",
              "    border: 2px solid var(--fill-color);\n",
              "    border-color: transparent;\n",
              "    border-bottom-color: var(--fill-color);\n",
              "    animation:\n",
              "      spin 1s steps(1) infinite;\n",
              "  }\n",
              "\n",
              "  @keyframes spin {\n",
              "    0% {\n",
              "      border-color: transparent;\n",
              "      border-bottom-color: var(--fill-color);\n",
              "      border-left-color: var(--fill-color);\n",
              "    }\n",
              "    20% {\n",
              "      border-color: transparent;\n",
              "      border-left-color: var(--fill-color);\n",
              "      border-top-color: var(--fill-color);\n",
              "    }\n",
              "    30% {\n",
              "      border-color: transparent;\n",
              "      border-left-color: var(--fill-color);\n",
              "      border-top-color: var(--fill-color);\n",
              "      border-right-color: var(--fill-color);\n",
              "    }\n",
              "    40% {\n",
              "      border-color: transparent;\n",
              "      border-right-color: var(--fill-color);\n",
              "      border-top-color: var(--fill-color);\n",
              "    }\n",
              "    60% {\n",
              "      border-color: transparent;\n",
              "      border-right-color: var(--fill-color);\n",
              "    }\n",
              "    80% {\n",
              "      border-color: transparent;\n",
              "      border-right-color: var(--fill-color);\n",
              "      border-bottom-color: var(--fill-color);\n",
              "    }\n",
              "    90% {\n",
              "      border-color: transparent;\n",
              "      border-bottom-color: var(--fill-color);\n",
              "    }\n",
              "  }\n",
              "</style>\n",
              "\n",
              "  <script>\n",
              "    async function quickchart(key) {\n",
              "      const quickchartButtonEl =\n",
              "        document.querySelector('#' + key + ' button');\n",
              "      quickchartButtonEl.disabled = true;  // To prevent multiple clicks.\n",
              "      quickchartButtonEl.classList.add('colab-df-spinner');\n",
              "      try {\n",
              "        const charts = await google.colab.kernel.invokeFunction(\n",
              "            'suggestCharts', [key], {});\n",
              "      } catch (error) {\n",
              "        console.error('Error during call to suggestCharts:', error);\n",
              "      }\n",
              "      quickchartButtonEl.classList.remove('colab-df-spinner');\n",
              "      quickchartButtonEl.classList.add('colab-df-quickchart-complete');\n",
              "    }\n",
              "    (() => {\n",
              "      let quickchartButtonEl =\n",
              "        document.querySelector('#df-454a2a15-650d-495f-b3e2-ee8a82a5fdaa button');\n",
              "      quickchartButtonEl.style.display =\n",
              "        google.colab.kernel.accessAllowed ? 'block' : 'none';\n",
              "    })();\n",
              "  </script>\n",
              "</div>\n",
              "\n",
              "    </div>\n",
              "  </div>\n"
            ],
            "application/vnd.google.colaboratory.intrinsic+json": {
              "type": "dataframe",
              "summary": "{\n  \"name\": \"X_train[['var_37', 'var_148']]\",\n  \"rows\": 10,\n  \"fields\": [\n    {\n      \"column\": \"var_37\",\n      \"properties\": {\n        \"dtype\": \"number\",\n        \"std\": 0,\n        \"min\": 0,\n        \"max\": 0,\n        \"num_unique_values\": 1,\n        \"samples\": [\n          0\n        ],\n        \"semantic_type\": \"\",\n        \"description\": \"\"\n      }\n    },\n    {\n      \"column\": \"var_148\",\n      \"properties\": {\n        \"dtype\": \"number\",\n        \"std\": 0,\n        \"min\": 0,\n        \"max\": 0,\n        \"num_unique_values\": 1,\n        \"samples\": [\n          0\n        ],\n        \"semantic_type\": \"\",\n        \"description\": \"\"\n      }\n    }\n  ]\n}"
            }
          },
          "metadata": {},
          "execution_count": 13
        }
      ]
    },
    {
      "cell_type": "code",
      "source": [
        "X_train['var_37'].unique()"
      ],
      "metadata": {
        "colab": {
          "base_uri": "https://localhost:8080/"
        },
        "id": "O42a7223Nm4L",
        "outputId": "20ab1b54-f019-40cf-81b3-a4bf38983c79"
      },
      "execution_count": null,
      "outputs": [
        {
          "output_type": "execute_result",
          "data": {
            "text/plain": [
              "array([ 0,  3,  6,  9, 12, 21, 33, 15])"
            ]
          },
          "metadata": {},
          "execution_count": 14
        }
      ]
    },
    {
      "cell_type": "code",
      "source": [
        "X_train['var_148'].unique()"
      ],
      "metadata": {
        "colab": {
          "base_uri": "https://localhost:8080/"
        },
        "id": "ubKuxfyjNod1",
        "outputId": "8a4a8f97-e335-4260-8fde-fcf5e8e407b9"
      },
      "execution_count": null,
      "outputs": [
        {
          "output_type": "execute_result",
          "data": {
            "text/plain": [
              "array([ 0,  3,  6,  9, 12, 21, 33, 15])"
            ]
          },
          "metadata": {},
          "execution_count": 15
        }
      ]
    },
    {
      "cell_type": "code",
      "source": [
        "# let's explore parts of the dataframe where the values in\n",
        "# these features are different from 0:\n",
        "\n",
        "X_train[X_train['var_37'] != 0][['var_37', 'var_148']].head(10)"
      ],
      "metadata": {
        "colab": {
          "base_uri": "https://localhost:8080/",
          "height": 363
        },
        "id": "pl25cAxuNpwV",
        "outputId": "cc361fad-12fa-49cf-b0d8-4543fb9c1271"
      },
      "execution_count": null,
      "outputs": [
        {
          "output_type": "execute_result",
          "data": {
            "text/plain": [
              "       var_37  var_148\n",
              "37493       3        3\n",
              "20251       6        6\n",
              "4264        6        6\n",
              "48480       3        3\n",
              "31607       3        3\n",
              "41172       3        3\n",
              "13502       3        3\n",
              "7759        3        3\n",
              "46118       3        3\n",
              "2638        3        3"
            ],
            "text/html": [
              "\n",
              "  <div id=\"df-6e283054-770d-4bf5-90c6-d1009a9bcd58\" class=\"colab-df-container\">\n",
              "    <div>\n",
              "<style scoped>\n",
              "    .dataframe tbody tr th:only-of-type {\n",
              "        vertical-align: middle;\n",
              "    }\n",
              "\n",
              "    .dataframe tbody tr th {\n",
              "        vertical-align: top;\n",
              "    }\n",
              "\n",
              "    .dataframe thead th {\n",
              "        text-align: right;\n",
              "    }\n",
              "</style>\n",
              "<table border=\"1\" class=\"dataframe\">\n",
              "  <thead>\n",
              "    <tr style=\"text-align: right;\">\n",
              "      <th></th>\n",
              "      <th>var_37</th>\n",
              "      <th>var_148</th>\n",
              "    </tr>\n",
              "  </thead>\n",
              "  <tbody>\n",
              "    <tr>\n",
              "      <th>37493</th>\n",
              "      <td>3</td>\n",
              "      <td>3</td>\n",
              "    </tr>\n",
              "    <tr>\n",
              "      <th>20251</th>\n",
              "      <td>6</td>\n",
              "      <td>6</td>\n",
              "    </tr>\n",
              "    <tr>\n",
              "      <th>4264</th>\n",
              "      <td>6</td>\n",
              "      <td>6</td>\n",
              "    </tr>\n",
              "    <tr>\n",
              "      <th>48480</th>\n",
              "      <td>3</td>\n",
              "      <td>3</td>\n",
              "    </tr>\n",
              "    <tr>\n",
              "      <th>31607</th>\n",
              "      <td>3</td>\n",
              "      <td>3</td>\n",
              "    </tr>\n",
              "    <tr>\n",
              "      <th>41172</th>\n",
              "      <td>3</td>\n",
              "      <td>3</td>\n",
              "    </tr>\n",
              "    <tr>\n",
              "      <th>13502</th>\n",
              "      <td>3</td>\n",
              "      <td>3</td>\n",
              "    </tr>\n",
              "    <tr>\n",
              "      <th>7759</th>\n",
              "      <td>3</td>\n",
              "      <td>3</td>\n",
              "    </tr>\n",
              "    <tr>\n",
              "      <th>46118</th>\n",
              "      <td>3</td>\n",
              "      <td>3</td>\n",
              "    </tr>\n",
              "    <tr>\n",
              "      <th>2638</th>\n",
              "      <td>3</td>\n",
              "      <td>3</td>\n",
              "    </tr>\n",
              "  </tbody>\n",
              "</table>\n",
              "</div>\n",
              "    <div class=\"colab-df-buttons\">\n",
              "\n",
              "  <div class=\"colab-df-container\">\n",
              "    <button class=\"colab-df-convert\" onclick=\"convertToInteractive('df-6e283054-770d-4bf5-90c6-d1009a9bcd58')\"\n",
              "            title=\"Convert this dataframe to an interactive table.\"\n",
              "            style=\"display:none;\">\n",
              "\n",
              "  <svg xmlns=\"http://www.w3.org/2000/svg\" height=\"24px\" viewBox=\"0 -960 960 960\">\n",
              "    <path d=\"M120-120v-720h720v720H120Zm60-500h600v-160H180v160Zm220 220h160v-160H400v160Zm0 220h160v-160H400v160ZM180-400h160v-160H180v160Zm440 0h160v-160H620v160ZM180-180h160v-160H180v160Zm440 0h160v-160H620v160Z\"/>\n",
              "  </svg>\n",
              "    </button>\n",
              "\n",
              "  <style>\n",
              "    .colab-df-container {\n",
              "      display:flex;\n",
              "      gap: 12px;\n",
              "    }\n",
              "\n",
              "    .colab-df-convert {\n",
              "      background-color: #E8F0FE;\n",
              "      border: none;\n",
              "      border-radius: 50%;\n",
              "      cursor: pointer;\n",
              "      display: none;\n",
              "      fill: #1967D2;\n",
              "      height: 32px;\n",
              "      padding: 0 0 0 0;\n",
              "      width: 32px;\n",
              "    }\n",
              "\n",
              "    .colab-df-convert:hover {\n",
              "      background-color: #E2EBFA;\n",
              "      box-shadow: 0px 1px 2px rgba(60, 64, 67, 0.3), 0px 1px 3px 1px rgba(60, 64, 67, 0.15);\n",
              "      fill: #174EA6;\n",
              "    }\n",
              "\n",
              "    .colab-df-buttons div {\n",
              "      margin-bottom: 4px;\n",
              "    }\n",
              "\n",
              "    [theme=dark] .colab-df-convert {\n",
              "      background-color: #3B4455;\n",
              "      fill: #D2E3FC;\n",
              "    }\n",
              "\n",
              "    [theme=dark] .colab-df-convert:hover {\n",
              "      background-color: #434B5C;\n",
              "      box-shadow: 0px 1px 3px 1px rgba(0, 0, 0, 0.15);\n",
              "      filter: drop-shadow(0px 1px 2px rgba(0, 0, 0, 0.3));\n",
              "      fill: #FFFFFF;\n",
              "    }\n",
              "  </style>\n",
              "\n",
              "    <script>\n",
              "      const buttonEl =\n",
              "        document.querySelector('#df-6e283054-770d-4bf5-90c6-d1009a9bcd58 button.colab-df-convert');\n",
              "      buttonEl.style.display =\n",
              "        google.colab.kernel.accessAllowed ? 'block' : 'none';\n",
              "\n",
              "      async function convertToInteractive(key) {\n",
              "        const element = document.querySelector('#df-6e283054-770d-4bf5-90c6-d1009a9bcd58');\n",
              "        const dataTable =\n",
              "          await google.colab.kernel.invokeFunction('convertToInteractive',\n",
              "                                                    [key], {});\n",
              "        if (!dataTable) return;\n",
              "\n",
              "        const docLinkHtml = 'Like what you see? Visit the ' +\n",
              "          '<a target=\"_blank\" href=https://colab.research.google.com/notebooks/data_table.ipynb>data table notebook</a>'\n",
              "          + ' to learn more about interactive tables.';\n",
              "        element.innerHTML = '';\n",
              "        dataTable['output_type'] = 'display_data';\n",
              "        await google.colab.output.renderOutput(dataTable, element);\n",
              "        const docLink = document.createElement('div');\n",
              "        docLink.innerHTML = docLinkHtml;\n",
              "        element.appendChild(docLink);\n",
              "      }\n",
              "    </script>\n",
              "  </div>\n",
              "\n",
              "\n",
              "<div id=\"df-e1de7258-228d-42b5-b6ce-c12c8a2cc6e7\">\n",
              "  <button class=\"colab-df-quickchart\" onclick=\"quickchart('df-e1de7258-228d-42b5-b6ce-c12c8a2cc6e7')\"\n",
              "            title=\"Suggest charts\"\n",
              "            style=\"display:none;\">\n",
              "\n",
              "<svg xmlns=\"http://www.w3.org/2000/svg\" height=\"24px\"viewBox=\"0 0 24 24\"\n",
              "     width=\"24px\">\n",
              "    <g>\n",
              "        <path d=\"M19 3H5c-1.1 0-2 .9-2 2v14c0 1.1.9 2 2 2h14c1.1 0 2-.9 2-2V5c0-1.1-.9-2-2-2zM9 17H7v-7h2v7zm4 0h-2V7h2v10zm4 0h-2v-4h2v4z\"/>\n",
              "    </g>\n",
              "</svg>\n",
              "  </button>\n",
              "\n",
              "<style>\n",
              "  .colab-df-quickchart {\n",
              "      --bg-color: #E8F0FE;\n",
              "      --fill-color: #1967D2;\n",
              "      --hover-bg-color: #E2EBFA;\n",
              "      --hover-fill-color: #174EA6;\n",
              "      --disabled-fill-color: #AAA;\n",
              "      --disabled-bg-color: #DDD;\n",
              "  }\n",
              "\n",
              "  [theme=dark] .colab-df-quickchart {\n",
              "      --bg-color: #3B4455;\n",
              "      --fill-color: #D2E3FC;\n",
              "      --hover-bg-color: #434B5C;\n",
              "      --hover-fill-color: #FFFFFF;\n",
              "      --disabled-bg-color: #3B4455;\n",
              "      --disabled-fill-color: #666;\n",
              "  }\n",
              "\n",
              "  .colab-df-quickchart {\n",
              "    background-color: var(--bg-color);\n",
              "    border: none;\n",
              "    border-radius: 50%;\n",
              "    cursor: pointer;\n",
              "    display: none;\n",
              "    fill: var(--fill-color);\n",
              "    height: 32px;\n",
              "    padding: 0;\n",
              "    width: 32px;\n",
              "  }\n",
              "\n",
              "  .colab-df-quickchart:hover {\n",
              "    background-color: var(--hover-bg-color);\n",
              "    box-shadow: 0 1px 2px rgba(60, 64, 67, 0.3), 0 1px 3px 1px rgba(60, 64, 67, 0.15);\n",
              "    fill: var(--button-hover-fill-color);\n",
              "  }\n",
              "\n",
              "  .colab-df-quickchart-complete:disabled,\n",
              "  .colab-df-quickchart-complete:disabled:hover {\n",
              "    background-color: var(--disabled-bg-color);\n",
              "    fill: var(--disabled-fill-color);\n",
              "    box-shadow: none;\n",
              "  }\n",
              "\n",
              "  .colab-df-spinner {\n",
              "    border: 2px solid var(--fill-color);\n",
              "    border-color: transparent;\n",
              "    border-bottom-color: var(--fill-color);\n",
              "    animation:\n",
              "      spin 1s steps(1) infinite;\n",
              "  }\n",
              "\n",
              "  @keyframes spin {\n",
              "    0% {\n",
              "      border-color: transparent;\n",
              "      border-bottom-color: var(--fill-color);\n",
              "      border-left-color: var(--fill-color);\n",
              "    }\n",
              "    20% {\n",
              "      border-color: transparent;\n",
              "      border-left-color: var(--fill-color);\n",
              "      border-top-color: var(--fill-color);\n",
              "    }\n",
              "    30% {\n",
              "      border-color: transparent;\n",
              "      border-left-color: var(--fill-color);\n",
              "      border-top-color: var(--fill-color);\n",
              "      border-right-color: var(--fill-color);\n",
              "    }\n",
              "    40% {\n",
              "      border-color: transparent;\n",
              "      border-right-color: var(--fill-color);\n",
              "      border-top-color: var(--fill-color);\n",
              "    }\n",
              "    60% {\n",
              "      border-color: transparent;\n",
              "      border-right-color: var(--fill-color);\n",
              "    }\n",
              "    80% {\n",
              "      border-color: transparent;\n",
              "      border-right-color: var(--fill-color);\n",
              "      border-bottom-color: var(--fill-color);\n",
              "    }\n",
              "    90% {\n",
              "      border-color: transparent;\n",
              "      border-bottom-color: var(--fill-color);\n",
              "    }\n",
              "  }\n",
              "</style>\n",
              "\n",
              "  <script>\n",
              "    async function quickchart(key) {\n",
              "      const quickchartButtonEl =\n",
              "        document.querySelector('#' + key + ' button');\n",
              "      quickchartButtonEl.disabled = true;  // To prevent multiple clicks.\n",
              "      quickchartButtonEl.classList.add('colab-df-spinner');\n",
              "      try {\n",
              "        const charts = await google.colab.kernel.invokeFunction(\n",
              "            'suggestCharts', [key], {});\n",
              "      } catch (error) {\n",
              "        console.error('Error during call to suggestCharts:', error);\n",
              "      }\n",
              "      quickchartButtonEl.classList.remove('colab-df-spinner');\n",
              "      quickchartButtonEl.classList.add('colab-df-quickchart-complete');\n",
              "    }\n",
              "    (() => {\n",
              "      let quickchartButtonEl =\n",
              "        document.querySelector('#df-e1de7258-228d-42b5-b6ce-c12c8a2cc6e7 button');\n",
              "      quickchartButtonEl.style.display =\n",
              "        google.colab.kernel.accessAllowed ? 'block' : 'none';\n",
              "    })();\n",
              "  </script>\n",
              "</div>\n",
              "\n",
              "    </div>\n",
              "  </div>\n"
            ],
            "application/vnd.google.colaboratory.intrinsic+json": {
              "type": "dataframe",
              "summary": "{\n  \"name\": \"X_train[X_train['var_37'] != 0][['var_37', 'var_148']]\",\n  \"rows\": 10,\n  \"fields\": [\n    {\n      \"column\": \"var_37\",\n      \"properties\": {\n        \"dtype\": \"number\",\n        \"std\": 1,\n        \"min\": 3,\n        \"max\": 6,\n        \"num_unique_values\": 2,\n        \"samples\": [\n          6,\n          3\n        ],\n        \"semantic_type\": \"\",\n        \"description\": \"\"\n      }\n    },\n    {\n      \"column\": \"var_148\",\n      \"properties\": {\n        \"dtype\": \"number\",\n        \"std\": 1,\n        \"min\": 3,\n        \"max\": 6,\n        \"num_unique_values\": 2,\n        \"samples\": [\n          6,\n          3\n        ],\n        \"semantic_type\": \"\",\n        \"description\": \"\"\n      }\n    }\n  ]\n}"
            }
          },
          "metadata": {},
          "execution_count": 16
        }
      ]
    },
    {
      "cell_type": "markdown",
      "source": [
        "As we see, these features are indeed identical :)\n",
        "\n",
        "There are more duplicated features in this dataset, which we removed because they are constant or quasi-constant. So as an exercise, why don't you try and find which additional features in this dataset are duplicates?"
      ],
      "metadata": {
        "id": "DthjrsGjNs4C"
      }
    },
    {
      "cell_type": "code",
      "source": [
        "# finally, to remove the duplicates, what we are going to do is to retain\n",
        "# the keys of the dictionary\n",
        "\n",
        "# do you understand why? if not, go back to our loop in cell 7 and try to\n",
        "# determine the reason\n",
        "\n",
        "X_train = X_train[duplicated_feat_pairs.keys()]\n",
        "X_test = X_test[duplicated_feat_pairs.keys()]\n",
        "\n",
        "X_train.shape, X_test.shape"
      ],
      "metadata": {
        "colab": {
          "base_uri": "https://localhost:8080/"
        },
        "id": "Zm1o8_X4NrFZ",
        "outputId": "6077b30b-5988-4856-a396-49f72f501111"
      },
      "execution_count": null,
      "outputs": [
        {
          "output_type": "execute_result",
          "data": {
            "text/plain": [
              "((35000, 152), (15000, 152))"
            ]
          },
          "metadata": {},
          "execution_count": 17
        }
      ]
    },
    {
      "cell_type": "markdown",
      "source": [
        "We can see how we further reduced our dataset by 6 additional features.\n",
        "\n",
        "In summary, by removing constant, quasi-constant and duplicated features, we reduced our original 300 feature dataset to a 152 feature dataset. Well done us!\n",
        "\n",
        "That is all for this lecture, I hope you enjoyed it and see you in the next one!"
      ],
      "metadata": {
        "id": "mKfeiXuBNzbD"
      }
    }
  ]
}