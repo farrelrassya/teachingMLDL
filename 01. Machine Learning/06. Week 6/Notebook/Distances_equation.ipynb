{
  "nbformat": 4,
  "nbformat_minor": 0,
  "metadata": {
    "colab": {
      "provenance": [],
      "authorship_tag": "ABX9TyOBQyV2+gb7piujVgcHcC0p",
      "include_colab_link": true
    },
    "kernelspec": {
      "name": "python3",
      "display_name": "Python 3"
    },
    "language_info": {
      "name": "python"
    }
  },
  "cells": [
    {
      "cell_type": "markdown",
      "metadata": {
        "id": "view-in-github",
        "colab_type": "text"
      },
      "source": [
        "<a href=\"https://colab.research.google.com/github/farrelrassya/teachingMLDL/blob/main/01.%20Machine%20Learning/06.%20Week%206/Notebook/Distances_equation.ipynb\" target=\"_parent\"><img src=\"https://colab.research.google.com/assets/colab-badge.svg\" alt=\"Open In Colab\"/></a>"
      ]
    },
    {
      "cell_type": "markdown",
      "source": [
        "# Distance and Similarity Formulas\n",
        "\n",
        "Here are some commonly used distance and similarity formulas in Machine Learning and NLP, written in LaTeX style.  \n",
        "Just paste this into a **Markdown cell** in Google Colab, and you'll see the rendered math.\n",
        "\n",
        "---\n",
        "\n",
        "## 1. Euclidean Distance\n",
        "\n",
        "For two points \\(p_1\\) and \\(p_2\\) in \\(\\mathbb{R}^n\\):\n",
        "\n",
        "$$\n",
        "d_{\\text{Euclidean}}(p_1, p_2) = \\sqrt{\\sum_{i=1}^{n} \\left( x_i - y_i \\right)^2 }\n",
        "$$\n",
        "\n",
        "\n",
        "where Where $p_1 = (x_1, x_2, \\ldots, x_n)$ and $p_2 = (y_1, y_2, \\ldots, y_n)$.\n",
        "\n",
        "---\n",
        "\n",
        "## 2. Manhattan Distance\n",
        "\n",
        "Also known as L1 distance:\n",
        "\n",
        "$$\n",
        "d_{\\text{Manhattan}}(p_1, p_2) = \\sum_{i=1}^{n} \\big|x_i - y_i\\big|\n",
        "$$\n",
        "\n",
        "---\n",
        "\n",
        "## 3. Minkowski Distance\n",
        "\n",
        "A general form that includes Euclidean (p=2) and Manhattan (p=1):\n",
        "\n",
        "$$\n",
        "d_{\\text{Minkowski}}(p_1, p_2) = \\left( \\sum_{i=1}^{n} \\big|x_i - y_i\\big|^p \\right)^{\\frac{1}{p}}\n",
        "$$\n",
        "\n",
        "---\n",
        "\n",
        "## 4. Chebyshev Distance\n",
        "\n",
        "Takes the maximum difference along any dimension:\n",
        "\n",
        "$$\n",
        "d_{\\text{Chebyshev}}(p_1, p_2) = \\max_{1 \\le i \\le n} \\big|x_i - y_i\\big|\n",
        "$$\n",
        "\n",
        "---\n",
        "\n",
        "## 5. Cosine Similarity\n",
        "\n",
        "Often used for measuring similarity between vectors (e.g., in NLP):\n",
        "\n",
        "$$\n",
        "\\text{cos\\_sim}(p_1, p_2) = \\frac{p_1 \\cdot p_2}{\\|p_1\\| \\, \\|p_2\\|}\n",
        "$$\n",
        "\n",
        "where:\n",
        "- $ p_1 = (x_1, x_2, \\ldots, x_n) $ and $ p_2 = (y_1, y_2, \\ldots, y_n) $ is two vector in $ \\mathbb{R}^n $\n",
        "\n",
        "---\n",
        "\n",
        "## 6. Jaccard Similarity and Distance\n",
        "\n",
        "For sets \\(A\\) and \\(B\\):\n",
        "\n",
        "$$\n",
        "\\text{Jaccard}_{\\text{sim}}(A, B) = \\frac{\\lvert A \\cap B \\rvert}{\\lvert A \\cup B \\rvert}\n",
        "$$\n",
        "\n",
        "\n",
        "And the Jaccard distance is simply:\n",
        "\n",
        "$$\n",
        "\\text{Jaccard}_{\\text{dist}}(A, B) = 1 - \\text{Jaccard}_{\\text{sim}}(A, B)\n",
        "$$\n",
        "\n",
        "---\n",
        "\n",
        "## 7. Mahalanobis Distance\n",
        "\n",
        "Mahalanobis Distance mengukur jarak antara dua titik dengan mempertimbangkan korelasi antar fitur dalam data. Metrik ini sangat berguna ketika fitur memiliki skala yang berbeda atau saling berkorelasi.\n",
        "\n",
        "Untuk dua vektor \\( p_1 \\) dan \\( p_2 \\) di \\(\\mathbb{R}^n\\) serta matriks kovarians \\(\\Sigma\\) dari dataset, Mahalanobis Distance didefinisikan sebagai:\n",
        "\n",
        "$$\n",
        "d_{\\text{Mahalanobis}}(p_1, p_2) = \\sqrt{(p_1 - p_2)^T \\, \\Sigma^{-1} \\, (p_1 - p_2)}\n",
        "$$\n",
        "\n",
        "Metrik ini mengatasi masalah perbedaan skala dan korelasi antar fitur, sehingga memberikan ukuran jarak yang lebih representatif dibandingkan metrik jarak tradisional seperti Euclidean Distance.\n",
        "\n",
        "---"
      ],
      "metadata": {
        "id": "9SboeFaKfwaF"
      }
    },
    {
      "cell_type": "code",
      "execution_count": null,
      "metadata": {
        "id": "-dFV7x55foVC"
      },
      "outputs": [],
      "source": []
    }
  ]
}