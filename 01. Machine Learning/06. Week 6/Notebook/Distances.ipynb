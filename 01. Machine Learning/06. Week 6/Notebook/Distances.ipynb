{
  "nbformat": 4,
  "nbformat_minor": 0,
  "metadata": {
    "colab": {
      "provenance": [],
      "authorship_tag": "ABX9TyMs7E9fWLfijaMCoiLzlCMR",
      "include_colab_link": true
    },
    "kernelspec": {
      "name": "python3",
      "display_name": "Python 3"
    },
    "language_info": {
      "name": "python"
    }
  },
  "cells": [
    {
      "cell_type": "markdown",
      "metadata": {
        "id": "view-in-github",
        "colab_type": "text"
      },
      "source": [
        "<a href=\"https://colab.research.google.com/github/farrelrassya/teachingMLDL/blob/main/01.%20Machine%20Learning/06.%20Week%206/Notebook/Distances.ipynb\" target=\"_parent\"><img src=\"https://colab.research.google.com/assets/colab-badge.svg\" alt=\"Open In Colab\"/></a>"
      ]
    },
    {
      "cell_type": "code",
      "source": [
        "import math\n",
        "import numpy as np\n",
        "import matplotlib.pyplot as plt"
      ],
      "metadata": {
        "id": "H56nXLuQqGq4"
      },
      "execution_count": 1,
      "outputs": []
    },
    {
      "cell_type": "code",
      "source": [
        "p1 = (1, 2)\n",
        "p2 = (4, 6)\n",
        "\n",
        "# Siapkan data untuk sumbu x dan y\n",
        "x_values = [p1[0], p2[0]]\n",
        "y_values = [p1[1], p2[1]]\n",
        "\n",
        "# Plot kedua titik\n",
        "plt.scatter(x_values, y_values)"
      ],
      "metadata": {
        "colab": {
          "base_uri": "https://localhost:8080/",
          "height": 448
        },
        "id": "YAfGNYgWqsHv",
        "outputId": "48b33424-f48d-4182-eb78-ebce7217fe63"
      },
      "execution_count": 2,
      "outputs": [
        {
          "output_type": "execute_result",
          "data": {
            "text/plain": [
              "<matplotlib.collections.PathCollection at 0x792925ead350>"
            ]
          },
          "metadata": {},
          "execution_count": 2
        },
        {
          "output_type": "display_data",
          "data": {
            "text/plain": [
              "<Figure size 640x480 with 1 Axes>"
            ],
            "image/png": "[encoded data removed]"
          },
          "metadata": {}
        }
      ]
    },
    {
      "cell_type": "code",
      "execution_count": 3,
      "metadata": {
        "id": "kTtgAWzyD82Y"
      },
      "outputs": [],
      "source": [
        "def euclidean_distance(p1, p2):\n",
        "    \"\"\"\n",
        "    Menghitung jarak Euclidean antara dua titik p1 dan p2.\n",
        "    p1 dan p2 berupa tuple/list numpy, contoh: p1 = (x1, y1)\n",
        "    \"\"\"\n",
        "    return math.sqrt(sum((a - b)**2 for a, b in zip(p1, p2)))"
      ]
    },
    {
      "cell_type": "code",
      "source": [
        "def manhattan_distance(p1, p2):\n",
        "    \"\"\"\n",
        "    Menghitung jarak Manhattan antara dua titik.\n",
        "    \"\"\"\n",
        "    return sum(abs(a - b) for a, b in zip(p1, p2))"
      ],
      "metadata": {
        "id": "3LLIx_9cp02x"
      },
      "execution_count": 4,
      "outputs": []
    },
    {
      "cell_type": "code",
      "source": [
        "def minkowski_distance(p1, p2, p=2):\n",
        "    \"\"\"\n",
        "    Menghitung jarak Minkowski antara dua titik dengan parameter p.\n",
        "    p = 2 -> Euclidean\n",
        "    p = 1 -> Manhattan\n",
        "    \"\"\"\n",
        "    return (sum(abs(a - b)**p for a, b in zip(p1, p2)))**(1/p)"
      ],
      "metadata": {
        "id": "sOJ3BhyQp2Uw"
      },
      "execution_count": 5,
      "outputs": []
    },
    {
      "cell_type": "code",
      "source": [
        "def chebyshev_distance(p1, p2):\n",
        "    \"\"\"\n",
        "    Menghitung jarak Chebyshev (max perbedaan tiap komponen).\n",
        "    \"\"\"\n",
        "    return max(abs(a - b) for a, b in zip(p1, p2))"
      ],
      "metadata": {
        "id": "xznFHc2rp4cv"
      },
      "execution_count": 6,
      "outputs": []
    },
    {
      "cell_type": "code",
      "source": [
        "def cosine_similarity(p1, p2):\n",
        "    \"\"\"\n",
        "    Menghitung Cosine Similarity antara dua vektor p1 dan p2.\n",
        "    Cosine Similarity = (p1 dot p2) / (||p1|| * ||p2||)\n",
        "    \"\"\"\n",
        "    dot_product = sum(a * b for a, b in zip(p1, p2))\n",
        "    magnitude_p1 = math.sqrt(sum(a**2 for a in p1))\n",
        "    magnitude_p2 = math.sqrt(sum(b**2 for b in p2))\n",
        "    if magnitude_p1 == 0 or magnitude_p2 == 0:\n",
        "        return 0  # Hindari pembagian dengan nol, misal vektor nol\n",
        "    return dot_product / (magnitude_p1 * magnitude_p2)"
      ],
      "metadata": {
        "id": "KSoRZ3ROp6HM"
      },
      "execution_count": 7,
      "outputs": []
    },
    {
      "cell_type": "code",
      "source": [
        "def jaccard_similarity(set1, set2):\n",
        "    \"\"\"\n",
        "    Menghitung Jaccard Similarity antara dua himpunan.\n",
        "    Jaccard Similarity = |Intersection| / |Union|\n",
        "    \"\"\"\n",
        "    intersection = set1.intersection(set2)\n",
        "    union = set1.union(set2)\n",
        "    if len(union) == 0:\n",
        "        return 0\n",
        "    return len(intersection) / len(union)"
      ],
      "metadata": {
        "id": "1G3CCnC3p8IL"
      },
      "execution_count": 8,
      "outputs": []
    },
    {
      "cell_type": "code",
      "source": [
        "def jaccard_distance(set1, set2):\n",
        "    \"\"\"\n",
        "    Jaccard Distance = 1 - Jaccard Similarity\n",
        "    \"\"\"\n",
        "    return 1 - jaccard_similarity(set1, set2)"
      ],
      "metadata": {
        "id": "InDh0OBvp9qJ"
      },
      "execution_count": 9,
      "outputs": []
    },
    {
      "cell_type": "code",
      "source": [
        "def mahalanobis_distance(p1, p2, cov_matrix):\n",
        "    \"\"\"\n",
        "    Menghitung Mahalanobis Distance antara dua titik p1 dan p2\n",
        "    dengan kovariansi 'cov_matrix'.\n",
        "    Rumus: sqrt( (p1-p2)^T * cov_matrix^-1 * (p1-p2) )\n",
        "    \"\"\"\n",
        "    diff = np.array(p1) - np.array(p2)\n",
        "    inv_cov = np.linalg.inv(cov_matrix)\n",
        "    dist = np.sqrt(diff.T @ inv_cov @ diff)\n",
        "    return dist"
      ],
      "metadata": {
        "id": "oefRm-Kmp-7H"
      },
      "execution_count": 10,
      "outputs": []
    },
    {
      "cell_type": "code",
      "source": [
        "if __name__ == \"__main__\":\n",
        "\n",
        "    p1 = (1, 2)\n",
        "    p2 = (4, 6)\n",
        "\n",
        "\n",
        "    print(\"Titik p1:\", p1)\n",
        "    print(\"Titik p2:\", p2)\n",
        "    print()\n",
        "\n",
        "    # 1. Euclidean\n",
        "    dist_euclidean = euclidean_distance(p1, p2)\n",
        "    print(\"Euclidean Distance:\", dist_euclidean)\n",
        "\n",
        "    # 2. Manhattan\n",
        "    dist_manhattan = manhattan_distance(p1, p2)\n",
        "    print(\"Manhattan Distance:\", dist_manhattan)\n",
        "\n",
        "    # 3. Minkowski (parameter p=3 contoh)\n",
        "    dist_minkowski = minkowski_distance(p1, p2, p=3)\n",
        "    print(\"Minkowski Distance (p=3):\", dist_minkowski)\n",
        "\n",
        "    # 4. Chebyshev\n",
        "    dist_chebyshev = chebyshev_distance(p1, p2)\n",
        "    print(\"Chebyshev Distance:\", dist_chebyshev)\n",
        "\n",
        "    # 5. Cosine Similarity\n",
        "    sim_cosine = cosine_similarity(p1, p2)\n",
        "    print(\"Cosine Similarity:\", sim_cosine)"
      ],
      "metadata": {
        "colab": {
          "base_uri": "https://localhost:8080/"
        },
        "id": "8DCj2tWrqAXA",
        "outputId": "f62825db-e775-4c3e-9be1-c91728d6dee7"
      },
      "execution_count": 11,
      "outputs": [
        {
          "output_type": "stream",
          "name": "stdout",
          "text": [
            "Titik p1: (1, 2)\n",
            "Titik p2: (4, 6)\n",
            "\n",
            "Euclidean Distance: 5.0\n",
            "Manhattan Distance: 7\n",
            "Minkowski Distance (p=3): 4.497941445275415\n",
            "Chebyshev Distance: 4\n",
            "Cosine Similarity: 0.9922778767136677\n"
          ]
        }
      ]
    },
    {
      "cell_type": "code",
      "source": [
        "set_p1 = set(p1)\n",
        "set_p2 = set(p2)\n",
        "jac_sim = jaccard_similarity(set_p1, set_p2)\n",
        "jac_dist = jaccard_distance(set_p1, set_p2)\n",
        "print(\"Jaccard Similarity:\", jac_sim)\n",
        "print(\"Jaccard Distance:\", jac_dist)\n",
        "\n",
        "    # 7. Mahalanobis Distance\n",
        "    #    Covariance matrix kita buat identity (2x2) untuk contoh sederhana.\n",
        "cov_matrix = np.identity(2)\n",
        "dist_mahalanobis = mahalanobis_distance(p1, p2, cov_matrix)\n",
        "print(\"Mahalanobis Distance (dengan kovariansi identitas):\", dist_mahalanobis)"
      ],
      "metadata": {
        "colab": {
          "base_uri": "https://localhost:8080/"
        },
        "id": "15bBd4dIqD_V",
        "outputId": "efa8d447-5c6d-41cf-a3fc-dff8e7dfae2c"
      },
      "execution_count": 12,
      "outputs": [
        {
          "output_type": "stream",
          "name": "stdout",
          "text": [
            "Jaccard Similarity: 0.0\n",
            "Jaccard Distance: 1.0\n",
            "Mahalanobis Distance (dengan kovariansi identitas): 5.0\n"
          ]
        }
      ]
    },
    {
      "cell_type": "code",
      "source": [],
      "metadata": {
        "id": "HbLyS1meqVeJ"
      },
      "execution_count": 12,
      "outputs": []
    }
  ]
}