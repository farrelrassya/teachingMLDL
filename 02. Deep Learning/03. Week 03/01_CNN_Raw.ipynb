{
  "nbformat": 4,
  "nbformat_minor": 0,
  "metadata": {
    "colab": {
      "provenance": [],
      "authorship_tag": "ABX9TyMWB1IAIr52Kgd8NpAGxkDh",
      "include_colab_link": true
    },
    "kernelspec": {
      "name": "python3",
      "display_name": "Python 3"
    },
    "language_info": {
      "name": "python"
    }
  },
  "cells": [
    {
      "cell_type": "markdown",
      "metadata": {
        "id": "view-in-github",
        "colab_type": "text"
      },
      "source": [
        "<a href=\"https://colab.research.google.com/github/farrelrassya/teachingMLDL/blob/main/02.%20Deep%20Learning/03.%20Week%2003/01_CNN_Raw.ipynb\" target=\"_parent\"><img src=\"https://colab.research.google.com/assets/colab-badge.svg\" alt=\"Open In Colab\"/></a>"
      ]
    },
    {
      "cell_type": "markdown",
      "source": [
        "## Convolutional neural networks\n",
        "Previously, we talked about artificial neural networks (ANNs), also known as multi- layer perceptrons (MLPs), which are basically layers of neurons stacked on top of each other that have learnable weights and biases. Each neuron receives some inputs, which are multiplied by their weights, with nonlinearity applied via activa- tion functions. In this chapter, we will talk about convolutional neural networks (CNNs), which are considered an evolution of the MLP architecture that performs a lot better with images."
      ],
      "metadata": {
        "id": "b4aLgqZWIGYG"
      }
    },
    {
      "cell_type": "markdown",
      "source": [
        "### Input layer\n",
        "When we work with 2D images, we need to preprocess them into something the net- work can understand before feeding them to the network. First, let’s see how comput- ers perceive images. In figure 3.2, we have an image 28 pixels wide × 28 pixels high. This image is seen by the computer as a 28 × 28 matrix, with pixel values ranging from 0 to 255 (0 for black, 255 for white, and the range in between for grayscale).\n",
        "\n",
        "<img src=\"https://raw.githubusercontent.com/farrelrassya/teachingMLDL/main/02.%20Deep%20Learning/03.%20Week%2003/Figure%203.2.png\" width=\"700\">\n"
      ],
      "metadata": {
        "id": "jJEeF_evIUI0"
      }
    },
    {
      "cell_type": "markdown",
      "source": [
        "Since MLPs only take as input 1D vectors with dimensions (1, n), they cannot take a raw 2D image matrix with dimensions (x, y). To fit the image in the input layer, we first need to transform our image into one large vector with the dimensions (1, n) that contains all the pixel values in the image. This process is called image flattening. In this example, the total number (n) of pixels in this image is 28 × 28 = 784. Then, in order to feed this image to our network, we need to flatten the (28 × 28) matrix into one long vector with dimensions (1, 784). The input vector looks like this:\n",
        "x = [row1, row2, row3, ..., row28]\n",
        "That said, the input layer in this example will have a total of 784 nodes: x1, x2, ..., x784"
      ],
      "metadata": {
        "id": "P3i_kl9qIa9i"
      }
    },
    {
      "cell_type": "code",
      "execution_count": 3,
      "metadata": {
        "colab": {
          "base_uri": "https://localhost:8080/"
        },
        "id": "60JgMHh5IFiI",
        "outputId": "4bae71e4-27b3-4965-ede2-e1fdc464f798"
      },
      "outputs": [
        {
          "output_type": "stream",
          "name": "stderr",
          "text": [
            "/usr/local/lib/python3.11/dist-packages/keras/src/layers/reshaping/flatten.py:37: UserWarning: Do not pass an `input_shape`/`input_dim` argument to a layer. When using Sequential models, prefer using an `Input(shape)` object as the first layer in the model instead.\n",
            "  super().__init__(**kwargs)\n"
          ]
        }
      ],
      "source": [
        "from keras.models import Sequential\n",
        "from keras.layers import Flatten\n",
        "\n",
        " #index_flat = i * (jumlah kolom) + j\n",
        "\n",
        "# untuk array 28x28, jumlah kolom = 28. Misal, elemen di posisi (1, 3) bakal punya index:\n",
        "# 1 * 28 + 3 = 31"
      ]
    },
    {
      "cell_type": "code",
      "source": [
        "import numpy as np\n",
        "# Bikin dummy image: gradient dari 0 (gelap) ke 255 (terang)\n",
        "\n",
        "# Tambah batch dimension, jadi shape-nya (1, 28, 28)\n",
        "\n",
        "\n",
        "# Jalanin model buat ngeliat output flatten\n",
        "flattened_output = model.predict(dummy_input)\n",
        "print(flattened_output[0][:10])"
      ],
      "metadata": {
        "colab": {
          "base_uri": "https://localhost:8080/"
        },
        "id": "TdeUnkL5JAPV",
        "outputId": "5004a2af-2cc3-48a9-8ef6-f3e39ab3f643"
      },
      "execution_count": 4,
      "outputs": [
        {
          "output_type": "stream",
          "name": "stdout",
          "text": [
            "\u001b[1m1/1\u001b[0m \u001b[32m━━━━━━━━━━━━━━━━━━━━\u001b[0m\u001b[37m\u001b[0m \u001b[1m0s\u001b[0m 133ms/step\n",
            "[0.        0.3256705 0.651341  0.9770115 1.302682  1.6283525 1.954023\n",
            " 2.2796936 2.605364  2.9310346]\n"
          ]
        }
      ]
    },
    {
      "cell_type": "code",
      "source": [
        "print(\"Input sebelum flatten:\", dummy_input[0][0][:10])"
      ],
      "metadata": {
        "colab": {
          "base_uri": "https://localhost:8080/"
        },
        "id": "i7a9dN2nKkwM",
        "outputId": "8ffb7be8-3901-45ec-bc0c-a73cebe702f3"
      },
      "execution_count": 5,
      "outputs": [
        {
          "output_type": "stream",
          "name": "stdout",
          "text": [
            "Input sebelum flatten: [0.        0.3256705 0.651341  0.9770115 1.302682  1.6283525 1.954023\n",
            " 2.2796936 2.605364  2.9310346]\n"
          ]
        }
      ]
    },
    {
      "cell_type": "markdown",
      "source": [
        "The Flatten layer in Keras handles this process for us. It takes the 2D image matrix input and converts it into a 1D vector. Note that the Flatten layer must be supplied a parameter value of the shape of the input image. Now the image is ready to be fed to the neural network.\n",
        "What’s next? Hidden layers."
      ],
      "metadata": {
        "id": "LCHJ7jpgIppJ"
      }
    },
    {
      "cell_type": "markdown",
      "source": [
        "### Hidden layers\n",
        "As discussed in the previous chapter, the neural network can have one or more hidden layers (technically, as many as you want). Each layer has one or more neurons (again, as many as you want). Your main job as a neural network engineer is to design these layers. For the sake of this example, let’s say you decided to arbitrarily design the network to have two hidden layers, each having 512 nodes—and don’t forget to add the ReLU activation function for each hidden layer."
      ],
      "metadata": {
        "id": "8vmgSvhvIvw-"
      }
    },
    {
      "cell_type": "markdown",
      "source": [
        "$$\n",
        "a_i = \\max(0,\\, z_i)\n",
        "$$\n"
      ],
      "metadata": {
        "id": "Pyo6QmslMEFk"
      }
    },
    {
      "cell_type": "code",
      "source": [
        "from keras.layers import Dense\n"
      ],
      "metadata": {
        "id": "FuuluY8qIkJA"
      },
      "execution_count": 6,
      "outputs": []
    },
    {
      "cell_type": "code",
      "source": [
        "import numpy as np\n",
        "\n",
        "def relu(x):\n",
        "    \"\"\"\n",
        "    Fungsi ReLU:\n",
        "    - Kalau x < 0, jadi 0\n",
        "    - Kalau x == 0, tetap 0\n",
        "    - Kalau x > 0, jadi x\n",
        "    \"\"\"\n",
        "    return\n",
        "\n",
        "# Contoh input: ada negatif, 0, dan positif\n",
        "input_vector = np.array([-5.0, -1.0, 0.0, 2.0, 5.0])\n",
        "output = relu(input_vector)\n",
        "\n",
        "print(\"Input:\", input_vector)\n",
        "print(\"Output setelah ReLU:\", output)"
      ],
      "metadata": {
        "colab": {
          "base_uri": "https://localhost:8080/"
        },
        "id": "OSOF4sdkLo0P",
        "outputId": "a44ebe54-cfb4-48e1-bc27-ec8b9dc75463"
      },
      "execution_count": 7,
      "outputs": [
        {
          "output_type": "stream",
          "name": "stdout",
          "text": [
            "Input: [-5. -1.  0.  2.  5.]\n",
            "Output setelah ReLU: [0. 0. 0. 2. 5.]\n"
          ]
        }
      ]
    },
    {
      "cell_type": "markdown",
      "source": [
        "### Output Layer\n",
        "\n",
        "The output layer is pretty straightforward. In classification problems, the number of nodes in the output layer should be equal to the number of classes that you are trying to detect. In this problem, we are classifying 10 digits (0, 1, 2, 3, 4, 5, 6, 7, 8, 9). Then we need to add one last Dense layer that contains 10 nodes:"
      ],
      "metadata": {
        "id": "bA6UK9MuM3_j"
      }
    },
    {
      "cell_type": "markdown",
      "source": [
        "$$\n",
        "\\text{softmax}(x)_i = \\frac{e^{x_i}}{\\sum_{j} e^{x_j}}\n",
        "$$\n"
      ],
      "metadata": {
        "id": "JqUN4XRLNEnD"
      }
    },
    {
      "cell_type": "code",
      "source": [
        "import numpy as np\n",
        "\n",
        "def softmax(x):\n",
        "    \"\"\"\n",
        "    Fungsi softmax buat ngeubah input vector jadi probabilitas.\n",
        "\n",
        "    Rumus:\n",
        "    softmax(x)_i = exp(x_i) / sum(exp(x))\n",
        "\n",
        "    Pake trick subtract np.max(x) buat stabilitas numerik.\n",
        "    \"\"\"\n",
        "\n",
        "    return\n",
        "\n",
        "# Contoh input vector\n",
        "input_vector = np.array([2.0, 1.0, 0.1])\n",
        "output = softmax(input_vector)\n",
        "\n",
        "print(\"Input:\", input_vector)\n",
        "print(\"Output setelah softmax:\", output)"
      ],
      "metadata": {
        "colab": {
          "base_uri": "https://localhost:8080/"
        },
        "id": "nLyPE4tsLz3N",
        "outputId": "ab2c72ef-52a5-4a15-c325-0a875a0f35e4"
      },
      "execution_count": 8,
      "outputs": [
        {
          "output_type": "stream",
          "name": "stdout",
          "text": [
            "Input: [2.  1.  0.1]\n",
            "Output setelah softmax: [0.65900114 0.24243297 0.09856589]\n"
          ]
        }
      ]
    },
    {
      "cell_type": "markdown",
      "source": [
        "### Putting it all together\n",
        "When we put all these layers together, we get a neural network like this:"
      ],
      "metadata": {
        "id": "pCxMky3-OxsK"
      }
    },
    {
      "cell_type": "code",
      "source": [
        "from keras.models import Sequential\n",
        "from keras.layers import Flatten, Dense\n",
        "\n"
      ],
      "metadata": {
        "colab": {
          "base_uri": "https://localhost:8080/",
          "height": 265
        },
        "id": "8lBpEAyiM56K",
        "outputId": "70782425-1e3b-44bb-da8e-f8386bdec3c1"
      },
      "execution_count": 9,
      "outputs": [
        {
          "output_type": "display_data",
          "data": {
            "text/plain": [
              "\u001b[1mModel: \"sequential_1\"\u001b[0m\n"
            ],
            "text/html": [
              "<pre style=\"white-space:pre;overflow-x:auto;line-height:normal;font-family:Menlo,'DejaVu Sans Mono',consolas,'Courier New',monospace\"><span style=\"font-weight: bold\">Model: \"sequential_1\"</span>\n",
              "</pre>\n"
            ]
          },
          "metadata": {}
        },
        {
          "output_type": "display_data",
          "data": {
            "text/plain": [
              "┏━━━━━━━━━━━━━━━━━━━━━━━━━━━━━━━━━━━━━━┳━━━━━━━━━━━━━━━━━━━━━━━━━━━━━┳━━━━━━━━━━━━━━━━━┓\n",
              "┃\u001b[1m \u001b[0m\u001b[1mLayer (type)                        \u001b[0m\u001b[1m \u001b[0m┃\u001b[1m \u001b[0m\u001b[1mOutput Shape               \u001b[0m\u001b[1m \u001b[0m┃\u001b[1m \u001b[0m\u001b[1m        Param #\u001b[0m\u001b[1m \u001b[0m┃\n",
              "┡━━━━━━━━━━━━━━━━━━━━━━━━━━━━━━━━━━━━━━╇━━━━━━━━━━━━━━━━━━━━━━━━━━━━━╇━━━━━━━━━━━━━━━━━┩\n",
              "│ flatten_1 (\u001b[38;5;33mFlatten\u001b[0m)                  │ (\u001b[38;5;45mNone\u001b[0m, \u001b[38;5;34m784\u001b[0m)                 │               \u001b[38;5;34m0\u001b[0m │\n",
              "├──────────────────────────────────────┼─────────────────────────────┼─────────────────┤\n",
              "│ dense_1 (\u001b[38;5;33mDense\u001b[0m)                      │ (\u001b[38;5;45mNone\u001b[0m, \u001b[38;5;34m512\u001b[0m)                 │         \u001b[38;5;34m401,920\u001b[0m │\n",
              "├──────────────────────────────────────┼─────────────────────────────┼─────────────────┤\n",
              "│ dense_2 (\u001b[38;5;33mDense\u001b[0m)                      │ (\u001b[38;5;45mNone\u001b[0m, \u001b[38;5;34m512\u001b[0m)                 │         \u001b[38;5;34m262,656\u001b[0m │\n",
              "├──────────────────────────────────────┼─────────────────────────────┼─────────────────┤\n",
              "│ dense_3 (\u001b[38;5;33mDense\u001b[0m)                      │ (\u001b[38;5;45mNone\u001b[0m, \u001b[38;5;34m10\u001b[0m)                  │           \u001b[38;5;34m5,130\u001b[0m │\n",
              "└──────────────────────────────────────┴─────────────────────────────┴─────────────────┘\n"
            ],
            "text/html": [
              "<pre style=\"white-space:pre;overflow-x:auto;line-height:normal;font-family:Menlo,'DejaVu Sans Mono',consolas,'Courier New',monospace\">┏━━━━━━━━━━━━━━━━━━━━━━━━━━━━━━━━━━━━━━┳━━━━━━━━━━━━━━━━━━━━━━━━━━━━━┳━━━━━━━━━━━━━━━━━┓\n",
              "┃<span style=\"font-weight: bold\"> Layer (type)                         </span>┃<span style=\"font-weight: bold\"> Output Shape                </span>┃<span style=\"font-weight: bold\">         Param # </span>┃\n",
              "┡━━━━━━━━━━━━━━━━━━━━━━━━━━━━━━━━━━━━━━╇━━━━━━━━━━━━━━━━━━━━━━━━━━━━━╇━━━━━━━━━━━━━━━━━┩\n",
              "│ flatten_1 (<span style=\"color: #0087ff; text-decoration-color: #0087ff\">Flatten</span>)                  │ (<span style=\"color: #00d7ff; text-decoration-color: #00d7ff\">None</span>, <span style=\"color: #00af00; text-decoration-color: #00af00\">784</span>)                 │               <span style=\"color: #00af00; text-decoration-color: #00af00\">0</span> │\n",
              "├──────────────────────────────────────┼─────────────────────────────┼─────────────────┤\n",
              "│ dense_1 (<span style=\"color: #0087ff; text-decoration-color: #0087ff\">Dense</span>)                      │ (<span style=\"color: #00d7ff; text-decoration-color: #00d7ff\">None</span>, <span style=\"color: #00af00; text-decoration-color: #00af00\">512</span>)                 │         <span style=\"color: #00af00; text-decoration-color: #00af00\">401,920</span> │\n",
              "├──────────────────────────────────────┼─────────────────────────────┼─────────────────┤\n",
              "│ dense_2 (<span style=\"color: #0087ff; text-decoration-color: #0087ff\">Dense</span>)                      │ (<span style=\"color: #00d7ff; text-decoration-color: #00d7ff\">None</span>, <span style=\"color: #00af00; text-decoration-color: #00af00\">512</span>)                 │         <span style=\"color: #00af00; text-decoration-color: #00af00\">262,656</span> │\n",
              "├──────────────────────────────────────┼─────────────────────────────┼─────────────────┤\n",
              "│ dense_3 (<span style=\"color: #0087ff; text-decoration-color: #0087ff\">Dense</span>)                      │ (<span style=\"color: #00d7ff; text-decoration-color: #00d7ff\">None</span>, <span style=\"color: #00af00; text-decoration-color: #00af00\">10</span>)                  │           <span style=\"color: #00af00; text-decoration-color: #00af00\">5,130</span> │\n",
              "└──────────────────────────────────────┴─────────────────────────────┴─────────────────┘\n",
              "</pre>\n"
            ]
          },
          "metadata": {}
        },
        {
          "output_type": "display_data",
          "data": {
            "text/plain": [
              "\u001b[1m Total params: \u001b[0m\u001b[38;5;34m669,706\u001b[0m (2.55 MB)\n"
            ],
            "text/html": [
              "<pre style=\"white-space:pre;overflow-x:auto;line-height:normal;font-family:Menlo,'DejaVu Sans Mono',consolas,'Courier New',monospace\"><span style=\"font-weight: bold\"> Total params: </span><span style=\"color: #00af00; text-decoration-color: #00af00\">669,706</span> (2.55 MB)\n",
              "</pre>\n"
            ]
          },
          "metadata": {}
        },
        {
          "output_type": "display_data",
          "data": {
            "text/plain": [
              "\u001b[1m Trainable params: \u001b[0m\u001b[38;5;34m669,706\u001b[0m (2.55 MB)\n"
            ],
            "text/html": [
              "<pre style=\"white-space:pre;overflow-x:auto;line-height:normal;font-family:Menlo,'DejaVu Sans Mono',consolas,'Courier New',monospace\"><span style=\"font-weight: bold\"> Trainable params: </span><span style=\"color: #00af00; text-decoration-color: #00af00\">669,706</span> (2.55 MB)\n",
              "</pre>\n"
            ]
          },
          "metadata": {}
        },
        {
          "output_type": "display_data",
          "data": {
            "text/plain": [
              "\u001b[1m Non-trainable params: \u001b[0m\u001b[38;5;34m0\u001b[0m (0.00 B)\n"
            ],
            "text/html": [
              "<pre style=\"white-space:pre;overflow-x:auto;line-height:normal;font-family:Menlo,'DejaVu Sans Mono',consolas,'Courier New',monospace\"><span style=\"font-weight: bold\"> Non-trainable params: </span><span style=\"color: #00af00; text-decoration-color: #00af00\">0</span> (0.00 B)\n",
              "</pre>\n"
            ]
          },
          "metadata": {}
        }
      ]
    },
    {
      "cell_type": "markdown",
      "source": [
        "The **\"Param #\" field** represents the number of learnable weights and biases in each layer of the network. These parameters are adjusted during training to optimize the error function. Here's how they are calculated:\n",
        "\n",
        "1. **Flatten Layer**:  \n",
        "   - **Parameters**: 0  \n",
        "     The flatten layer reshapes the image into a vector without adding any weights.\n",
        "\n",
        "2. **First Dense Layer**:  \n",
        "   - **Input nodes**: 784 (from the flattened image)  \n",
        "   - **Output neurons**: 512  \n",
        "   - **Calculation**:  \n",
        "     $$\n",
        "     \\text{Parameters} = 784 \\times 512 + 512 = 401{,}920.\n",
        "     $$\n",
        "\n",
        "3. **Second Dense Layer**:  \n",
        "   - **Input nodes**: 512  \n",
        "   - **Output neurons**: 512  \n",
        "   - **Calculation**:  \n",
        "     $$\n",
        "     \\text{Parameters} = 512 \\times 512 + 512 = 262{,}656.\n",
        "     $$\n",
        "\n",
        "4. **Output Dense Layer**:  \n",
        "   - **Input nodes**: 512  \n",
        "   - **Output neurons**: 10  \n",
        "   - **Calculation**:  \n",
        "     $$\n",
        "     \\text{Parameters} = 512 \\times 10 + 10 = 5{,}130.\n",
        "     $$\n",
        "\n",
        "5. **Total Parameters in the Network**:  \n",
        "   $$\n",
        "   \\text{Total} = 401{,}920 + 262{,}656 + 5{,}130 = 669{,}706.\n",
        "   $$\n",
        "\n",
        "This means that this network has a total of **669,706** parameters. Even for a small network like this, the parameter count is quite high, and it can increase dramatically with more nodes, layers, or larger input images."
      ],
      "metadata": {
        "id": "o8I5WeX0PE2P"
      }
    },
    {
      "cell_type": "markdown",
      "source": [
        "### MLP and CNN Comparison"
      ],
      "metadata": {
        "id": "NvczGB-rPCL3"
      }
    },
    {
      "cell_type": "code",
      "source": [
        "import tensorflow as tf\n",
        "from tensorflow.keras.models import Sequential\n",
        "from tensorflow.keras.layers import Dense, Flatten, Dropout\n",
        "from tensorflow.keras.datasets import mnist"
      ],
      "metadata": {
        "id": "d3E4kAmHO0Ra"
      },
      "execution_count": 10,
      "outputs": []
    },
    {
      "cell_type": "code",
      "source": [
        "#load data"
      ],
      "metadata": {
        "colab": {
          "base_uri": "https://localhost:8080/"
        },
        "id": "UZaLMz7CPJqb",
        "outputId": "e16b80a2-37b5-4ffa-a642-4175ad4e1750"
      },
      "execution_count": 11,
      "outputs": [
        {
          "output_type": "stream",
          "name": "stdout",
          "text": [
            "Downloading data from https://storage.googleapis.com/tensorflow/tf-keras-datasets/mnist.npz\n",
            "\u001b[1m11490434/11490434\u001b[0m \u001b[32m━━━━━━━━━━━━━━━━━━━━\u001b[0m\u001b[37m\u001b[0m \u001b[1m1s\u001b[0m 0us/step\n"
          ]
        }
      ]
    },
    {
      "cell_type": "code",
      "source": [
        "#make train and test data"
      ],
      "metadata": {
        "id": "4LCd2q7kPLMR"
      },
      "execution_count": 27,
      "outputs": []
    },
    {
      "cell_type": "code",
      "source": [
        "#build model"
      ],
      "metadata": {
        "id": "_xqPdUTwPNDe"
      },
      "execution_count": 28,
      "outputs": []
    },
    {
      "cell_type": "code",
      "source": [
        "#model compile"
      ],
      "metadata": {
        "id": "_c2x8gu_PSht"
      },
      "execution_count": 29,
      "outputs": []
    },
    {
      "cell_type": "code",
      "source": [
        "history_mlp = model_mlp.fit"
      ],
      "metadata": {
        "colab": {
          "base_uri": "https://localhost:8080/"
        },
        "id": "rFlnJz-XPUTM",
        "outputId": "f48e3546-244c-44b6-c0cd-901c3c8ee0d1"
      },
      "execution_count": 30,
      "outputs": [
        {
          "output_type": "stream",
          "name": "stdout",
          "text": [
            "Epoch 1/10\n",
            "\u001b[1m375/375\u001b[0m \u001b[32m━━━━━━━━━━━━━━━━━━━━\u001b[0m\u001b[37m\u001b[0m \u001b[1m8s\u001b[0m 18ms/step - accuracy: 0.5016 - loss: 1.5542 - val_accuracy: 0.8708 - val_loss: 0.4492\n",
            "Epoch 2/10\n",
            "\u001b[1m375/375\u001b[0m \u001b[32m━━━━━━━━━━━━━━━━━━━━\u001b[0m\u001b[37m\u001b[0m \u001b[1m6s\u001b[0m 17ms/step - accuracy: 0.8591 - loss: 0.4696 - val_accuracy: 0.9045 - val_loss: 0.3269\n",
            "Epoch 3/10\n",
            "\u001b[1m375/375\u001b[0m \u001b[32m━━━━━━━━━━━━━━━━━━━━\u001b[0m\u001b[37m\u001b[0m \u001b[1m11s\u001b[0m 19ms/step - accuracy: 0.8927 - loss: 0.3564 - val_accuracy: 0.9164 - val_loss: 0.2781\n",
            "Epoch 4/10\n",
            "\u001b[1m375/375\u001b[0m \u001b[32m━━━━━━━━━━━━━━━━━━━━\u001b[0m\u001b[37m\u001b[0m \u001b[1m6s\u001b[0m 16ms/step - accuracy: 0.9096 - loss: 0.3018 - val_accuracy: 0.9294 - val_loss: 0.2370\n",
            "Epoch 5/10\n",
            "\u001b[1m375/375\u001b[0m \u001b[32m━━━━━━━━━━━━━━━━━━━━\u001b[0m\u001b[37m\u001b[0m \u001b[1m10s\u001b[0m 16ms/step - accuracy: 0.9276 - loss: 0.2527 - val_accuracy: 0.9396 - val_loss: 0.2085\n",
            "Epoch 6/10\n",
            "\u001b[1m375/375\u001b[0m \u001b[32m━━━━━━━━━━━━━━━━━━━━\u001b[0m\u001b[37m\u001b[0m \u001b[1m11s\u001b[0m 17ms/step - accuracy: 0.9320 - loss: 0.2246 - val_accuracy: 0.9456 - val_loss: 0.1846\n",
            "Epoch 7/10\n",
            "\u001b[1m375/375\u001b[0m \u001b[32m━━━━━━━━━━━━━━━━━━━━\u001b[0m\u001b[37m\u001b[0m \u001b[1m11s\u001b[0m 19ms/step - accuracy: 0.9434 - loss: 0.1938 - val_accuracy: 0.9477 - val_loss: 0.1755\n",
            "Epoch 8/10\n",
            "\u001b[1m375/375\u001b[0m \u001b[32m━━━━━━━━━━━━━━━━━━━━\u001b[0m\u001b[37m\u001b[0m \u001b[1m10s\u001b[0m 19ms/step - accuracy: 0.9464 - loss: 0.1762 - val_accuracy: 0.9563 - val_loss: 0.1509\n",
            "Epoch 9/10\n",
            "\u001b[1m375/375\u001b[0m \u001b[32m━━━━━━━━━━━━━━━━━━━━\u001b[0m\u001b[37m\u001b[0m \u001b[1m9s\u001b[0m 16ms/step - accuracy: 0.9518 - loss: 0.1589 - val_accuracy: 0.9582 - val_loss: 0.1425\n",
            "Epoch 10/10\n",
            "\u001b[1m375/375\u001b[0m \u001b[32m━━━━━━━━━━━━━━━━━━━━\u001b[0m\u001b[37m\u001b[0m \u001b[1m10s\u001b[0m 16ms/step - accuracy: 0.9565 - loss: 0.1460 - val_accuracy: 0.9604 - val_loss: 0.1309\n"
          ]
        }
      ]
    },
    {
      "cell_type": "code",
      "source": [
        "score = model_mlp.evaluate(x_test, y_test, verbose=0)\n",
        "print('MLP Test loss:', score[0])\n",
        "print('MLP Test accuracy:', score[1])"
      ],
      "metadata": {
        "colab": {
          "base_uri": "https://localhost:8080/"
        },
        "id": "0UdrPPzEPWC5",
        "outputId": "d35f7d59-df6f-4be1-8630-3748fffa7291"
      },
      "execution_count": 31,
      "outputs": [
        {
          "output_type": "stream",
          "name": "stdout",
          "text": [
            "MLP Test loss: 0.13074031472206116\n",
            "MLP Test accuracy: 0.9603999853134155\n"
          ]
        }
      ]
    },
    {
      "cell_type": "code",
      "source": [
        "import tensorflow as tf\n",
        "from tensorflow.keras.models import Sequential\n",
        "from tensorflow.keras.layers import Conv2D, MaxPooling2D, Flatten, Dense, Dropout\n",
        "from tensorflow.keras.datasets import mnist"
      ],
      "metadata": {
        "id": "54pIarCLPXzN"
      },
      "execution_count": 32,
      "outputs": []
    },
    {
      "cell_type": "code",
      "source": [
        "#load data"
      ],
      "metadata": {
        "id": "j8F-i-P3PawY"
      },
      "execution_count": 33,
      "outputs": []
    },
    {
      "cell_type": "code",
      "source": [
        "#make train and test data"
      ],
      "metadata": {
        "id": "12cr0PzqPcYy"
      },
      "execution_count": 34,
      "outputs": []
    },
    {
      "cell_type": "code",
      "source": [
        "#build model"
      ],
      "metadata": {
        "id": "Oz3w9IbKPd_n"
      },
      "execution_count": 35,
      "outputs": []
    },
    {
      "cell_type": "code",
      "source": [
        "#model compile"
      ],
      "metadata": {
        "id": "6YaOeTh_PjWa"
      },
      "execution_count": 36,
      "outputs": []
    },
    {
      "cell_type": "code",
      "source": [
        "history_cnn = model_cnn.fit"
      ],
      "metadata": {
        "colab": {
          "base_uri": "https://localhost:8080/"
        },
        "id": "-jgUqyfnPk6z",
        "outputId": "3a16514d-3eb1-4ed8-aaa6-9b260370c019"
      },
      "execution_count": 38,
      "outputs": [
        {
          "output_type": "stream",
          "name": "stdout",
          "text": [
            "Epoch 1/10\n",
            "\u001b[1m375/375\u001b[0m \u001b[32m━━━━━━━━━━━━━━━━━━━━\u001b[0m\u001b[37m\u001b[0m \u001b[1m41s\u001b[0m 104ms/step - accuracy: 0.8218 - loss: 0.5983 - val_accuracy: 0.9775 - val_loss: 0.0767\n",
            "Epoch 2/10\n",
            "\u001b[1m375/375\u001b[0m \u001b[32m━━━━━━━━━━━━━━━━━━━━\u001b[0m\u001b[37m\u001b[0m \u001b[1m39s\u001b[0m 103ms/step - accuracy: 0.9763 - loss: 0.0797 - val_accuracy: 0.9833 - val_loss: 0.0591\n",
            "Epoch 3/10\n",
            "\u001b[1m375/375\u001b[0m \u001b[32m━━━━━━━━━━━━━━━━━━━━\u001b[0m\u001b[37m\u001b[0m \u001b[1m41s\u001b[0m 104ms/step - accuracy: 0.9847 - loss: 0.0527 - val_accuracy: 0.9877 - val_loss: 0.0421\n",
            "Epoch 4/10\n",
            "\u001b[1m375/375\u001b[0m \u001b[32m━━━━━━━━━━━━━━━━━━━━\u001b[0m\u001b[37m\u001b[0m \u001b[1m41s\u001b[0m 104ms/step - accuracy: 0.9869 - loss: 0.0418 - val_accuracy: 0.9886 - val_loss: 0.0384\n",
            "Epoch 5/10\n",
            "\u001b[1m375/375\u001b[0m \u001b[32m━━━━━━━━━━━━━━━━━━━━\u001b[0m\u001b[37m\u001b[0m \u001b[1m41s\u001b[0m 103ms/step - accuracy: 0.9901 - loss: 0.0331 - val_accuracy: 0.9874 - val_loss: 0.0393\n",
            "Epoch 6/10\n",
            "\u001b[1m375/375\u001b[0m \u001b[32m━━━━━━━━━━━━━━━━━━━━\u001b[0m\u001b[37m\u001b[0m \u001b[1m41s\u001b[0m 102ms/step - accuracy: 0.9915 - loss: 0.0277 - val_accuracy: 0.9910 - val_loss: 0.0327\n",
            "Epoch 7/10\n",
            "\u001b[1m375/375\u001b[0m \u001b[32m━━━━━━━━━━━━━━━━━━━━\u001b[0m\u001b[37m\u001b[0m \u001b[1m39s\u001b[0m 103ms/step - accuracy: 0.9934 - loss: 0.0212 - val_accuracy: 0.9893 - val_loss: 0.0364\n",
            "Epoch 8/10\n",
            "\u001b[1m375/375\u001b[0m \u001b[32m━━━━━━━━━━━━━━━━━━━━\u001b[0m\u001b[37m\u001b[0m \u001b[1m39s\u001b[0m 103ms/step - accuracy: 0.9943 - loss: 0.0188 - val_accuracy: 0.9887 - val_loss: 0.0364\n",
            "Epoch 9/10\n",
            "\u001b[1m375/375\u001b[0m \u001b[32m━━━━━━━━━━━━━━━━━━━━\u001b[0m\u001b[37m\u001b[0m \u001b[1m41s\u001b[0m 103ms/step - accuracy: 0.9946 - loss: 0.0171 - val_accuracy: 0.9903 - val_loss: 0.0369\n",
            "Epoch 10/10\n",
            "\u001b[1m375/375\u001b[0m \u001b[32m━━━━━━━━━━━━━━━━━━━━\u001b[0m\u001b[37m\u001b[0m \u001b[1m45s\u001b[0m 113ms/step - accuracy: 0.9950 - loss: 0.0148 - val_accuracy: 0.9893 - val_loss: 0.0393\n"
          ]
        }
      ]
    },
    {
      "cell_type": "code",
      "source": [
        "score = model_cnn.evaluate(x_test, y_test, verbose=0)\n",
        "print('CNN Test loss:', score[0])\n",
        "print('CNN Test accuracy:', score[1])"
      ],
      "metadata": {
        "colab": {
          "base_uri": "https://localhost:8080/"
        },
        "id": "forlpoHSPmqw",
        "outputId": "bb17863e-b39e-41ad-8904-37843caed74e"
      },
      "execution_count": 39,
      "outputs": [
        {
          "output_type": "stream",
          "name": "stdout",
          "text": [
            "CNN Test loss: 0.032866597175598145\n",
            "CNN Test accuracy: 0.9891999959945679\n"
          ]
        }
      ]
    },
    {
      "cell_type": "code",
      "source": [
        "import matplotlib.pyplot as plt\n",
        "\n",
        "# Grafik Perbandingan Akurasi\n",
        "plt.figure(figsize=(14, 6))\n",
        "\n",
        "plt.subplot(1, 2, 1)\n",
        "plt.plot(history_mlp.history['accuracy'], 'b-', label='MLP Train')\n",
        "plt.plot(history_mlp.history['val_accuracy'], 'b--', label='MLP Val')\n",
        "plt.plot(history_cnn.history['accuracy'], 'r-', label='CNN Train')\n",
        "plt.plot(history_cnn.history['val_accuracy'], 'r--', label='CNN Val')\n",
        "plt.title('Perbandingan Akurasi: MLP vs CNN')\n",
        "plt.xlabel('Epoch')\n",
        "plt.ylabel('Akurasi')\n",
        "plt.legend()\n",
        "\n",
        "# Grafik Perbandingan Loss\n",
        "plt.subplot(1, 2, 2)\n",
        "plt.plot(history_mlp.history['loss'], 'b-', label='MLP Train Loss')\n",
        "plt.plot(history_mlp.history['val_loss'], 'b--', label='MLP Val Loss')\n",
        "plt.plot(history_cnn.history['loss'], 'r-', label='CNN Train Loss')\n",
        "plt.plot(history_cnn.history['val_loss'], 'r--', label='CNN Val Loss')\n",
        "plt.title('Perbandingan Loss: MLP vs CNN')\n",
        "plt.xlabel('Epoch')\n",
        "plt.ylabel('Loss')\n",
        "plt.legend()\n",
        "\n",
        "plt.tight_layout()\n",
        "plt.show()"
      ],
      "metadata": {
        "colab": {
          "base_uri": "https://localhost:8080/",
          "height": 607
        },
        "id": "Zy7IpamVPoTB",
        "outputId": "3117af3a-fb6a-4ae6-b51e-5ebcd9367fcd"
      },
      "execution_count": 40,
      "outputs": [
        {
          "output_type": "display_data",
          "data": {
            "text/plain": [
              "<Figure size 1400x600 with 2 Axes>"
            ],
            "image/png": "[encoded data removed]"
          },
          "metadata": {}
        }
      ]
    },
    {
      "cell_type": "markdown",
      "source": [
        "1. MLP vs. CNN on MNIST:\n",
        "On the MNIST dataset, the performance gap between an MLP and a CNN isn’t dramatically wide. MNIST is exceptionally clean—28×28, grayscale images that are centered and preprocessed. While CNNs have a natural edge in capturing spatial hierarchies, the dataset's simplicity means that even an MLP can achieve about 96% accuracy compared to the CNN’s 99%.\n",
        "\n",
        "\n",
        "---\n",
        "\n",
        "### Analytical Question\n",
        "\n",
        "1. **Analytical Question for a More Challenging Dataset**:\n",
        "\"How do the performances of MLP and CNN compare when applied to a more complex dataset like CIFAR-10, which consists of colored images with varying object positions and backgrounds? What factors—such as spatial complexity, color variations, and less controlled preprocessing—contribute to any significant performance differences, and how might improved preprocessing techniques help bridge the gap?\""
      ],
      "metadata": {
        "id": "mlb5CfpfUMc_"
      }
    },
    {
      "cell_type": "markdown",
      "source": [
        "### Drawbacks of MLPs for Processing Images\n",
        "Let's discuss the two major problems with Multi-Layer Perceptrons (MLPs) that Convolutional Neural Networks (CNNs) were specifically designed to address.\n",
        "1. Loss of Spatial Features\n",
        "When using MLPs to process images, we encounter a fundamental limitation: we must flatten our 2D image into a 1D vector. This flattening process unfortunately discards valuable spatial information that is crucial for image understanding.\n",
        "Consider this simple example:\n",
        "Imagine we have a white square on a black background, represented as a matrix:\n",
        "\n",
        "\n",
        "![](https://raw.githubusercontent.com/farrelrassya/teachingMLDL/main/02.%20Deep%20Learning/03.%20Week%2003/Figure%203.5.png)\n"
      ],
      "metadata": {
        "id": "s3DsNqLoSoDU"
      }
    },
    {
      "cell_type": "markdown",
      "source": [
        "Where 1 represents white pixels and 0 represents black pixels.\n",
        "For an MLP, we must convert this matrix into a 1D vector:"
      ],
      "metadata": {
        "id": "Tdp0HHSESrsq"
      }
    },
    {
      "cell_type": "code",
      "source": [
        "Inputvector = [1, 1, 0, 0, 1, 1, 0, 0, 0, 0, 0, 0, 0, 0, 0, 0]\n",
        "Inputvector"
      ],
      "metadata": {
        "colab": {
          "base_uri": "https://localhost:8080/"
        },
        "id": "dVc20Js-VM_t",
        "outputId": "d85a349c-b91f-442d-aaf0-e56324a3472f"
      },
      "execution_count": 41,
      "outputs": [
        {
          "output_type": "execute_result",
          "data": {
            "text/plain": [
              "[1, 1, 0, 0, 1, 1, 0, 0, 0, 0, 0, 0, 0, 0, 0, 0]"
            ]
          },
          "metadata": {},
          "execution_count": 41
        }
      ]
    },
    {
      "cell_type": "markdown",
      "source": [
        "As a result, the MLP only learns that a square is detected when specific input positions (in this case: x₁, x₂, x₅, and x₆) are activated. The MLP doesn't understand the concept of a \"square\" as a spatial feature—it's merely memorizing which pixel positions should be active.\n",
        "Problems arise when we test the MLP with squares in different positions:\n",
        "\n"
      ],
      "metadata": {
        "id": "DJtuhThISubI"
      }
    },
    {
      "cell_type": "markdown",
      "source": [
        "![](https://raw.githubusercontent.com/farrelrassya/teachingMLDL/main/02.%20Deep%20Learning/03.%20Week%2003/Figure%203.6.png)"
      ],
      "metadata": {
        "id": "RQNEiRSJViw5"
      }
    },
    {
      "cell_type": "markdown",
      "source": [
        "Our trained MLP will likely fail to recognize these as squares because the active pixels appear in different positions than those learned during training. The MLP doesn't grasp that these are \"the same square shape but in different locations.\"\n",
        "Unlike MLPs, CNNs can directly accept 2D images without flattening them. CNNs understand that neighboring pixels have stronger relationships than distant pixels. CNNs can recognize spatial patterns (like squares) regardless of where these patterns appear in the image."
      ],
      "metadata": {
        "id": "e6SZ451dS2Xu"
      }
    },
    {
      "cell_type": "code",
      "source": [],
      "metadata": {
        "id": "kwFflj9UVoUO"
      },
      "execution_count": null,
      "outputs": []
    },
    {
      "cell_type": "markdown",
      "source": [
        "### Fully Connected Dense layers\n",
        "MLPs are composed of dense layers that are fully connected to each other. Fully con- nected means every node in one layer is connected to all nodes of the previous layer and all nodes in the next layer. In this scenario, each neuron has parameters (weights) to train per neuron from the previous layer. While this is not a big problem for the MNIST dataset because the images are really small in size (28 × 28), what happens when we try to process larger images? For example, if we have an image with dimen- sions 1,000 × 1,000, it will yield 1 million parameters for each node in the first hidden layer. So if the first hidden layer has 1,000 neurons, this will yield 1 billion parameters even in such a small network. You can imagine the computational complexity of opti- mizing 1 billion parameters after only the first layer. This number will increase drasti- cally when we have tens or hundreds of layers. This can get out of control pretty fast and will not scale.\n",
        "CNNs, on the other hand, are locally connected layers, as figure 3.8 shows: nodes are connected to only a small subset of the previous layers’ nodes. Locally connected lay- ers use far fewer parameters than densely connected layers, as you will see.\n",
        "\n",
        "<img src=\"https://raw.githubusercontent.com/farrelrassya/teachingMLDL/main/02.%20Deep%20Learning/03.%20Week%2003/Figure%203.8.png\" width=\"700\">\n",
        "\n",
        "\n",
        "\n",
        "The loss of information caused by flattening a 2D image matrix to a 1D vector and the computational complexity of fully connected layers with larger images suggest that we need an entirely new way of processing image input, one where 2D information is not entirely lost. This is where convolutional networks come in. CNNs accept the full. image matrix as input, which significantly helps the network understand the patterns\n",
        "contained in the pixel values."
      ],
      "metadata": {
        "id": "LbFwK9yPVnc7"
      }
    },
    {
      "cell_type": "markdown",
      "source": [
        "### Convolutional layers\n",
        "A convolutional layer is the core building block of a convolutional neural network. Convolutional layers act like a feature finder window that slides over the image pixel by pixel to extract meaningful features that identify the objects in the image.\n",
        "\n",
        "What is Convolution?\n",
        "In mathematics, convolution is the operation of two functions to produce a third modified function. In the context of CNNs, the first function is the input image, and the second function is the convolutional filter. We will perform some mathematical operations to produce a modified image with new pixel values.\n",
        "Let’s zoom in on the first convolutional layer to see how it processes an image (fig- ure 3.13). By sliding the convolutional filter over the input image, the network breaks the image into little chunks and processes those chunks individually to assemble the modified image, a feature map."
      ],
      "metadata": {
        "id": "k7KG2NN0WXlF"
      }
    },
    {
      "cell_type": "markdown",
      "source": [
        "<img src=\"https://raw.githubusercontent.com/farrelrassya/teachingMLDL/main/02.%20Deep%20Learning/03.%20Week%2003/Figure%203.12.png\" width=\"700\">\n"
      ],
      "metadata": {
        "id": "aC0_0Rt0XQT3"
      }
    },
    {
      "cell_type": "markdown",
      "source": [
        "<img src=\"https://raw.githubusercontent.com/farrelrassya/teachingMLDL/main/02.%20Deep%20Learning/03.%20Week%2003/Figure%203.13.png\" width=\"700\">\n"
      ],
      "metadata": {
        "id": "tvpfdObnXdi-"
      }
    },
    {
      "cell_type": "markdown",
      "source": [
        "CONVOLUTIONAL OPERATIONS\n",
        "\n",
        "The math should look familiar from our discussion of MLPs. Remember how we multi-\n",
        "plied the input by the weights and summed them all together to get the weighted sum?\n",
        "\n",
        "$$weightedsum=x1 \\cdot w1 +x2 \\cdot w2 +x3 \\cdot w3 +...+xn \\cdot wn +b$$\n",
        "\n",
        "We do the same thing here, except that in CNNs, the neurons and weights are struc-\n",
        "tured in a matrix shape. So we multiply each pixel in the receptive field by the corre-\n",
        "sponding pixel in the convolution filter and sum them all together to get the value of\n",
        "the center pixel in the new image (figure 3.15). This is the same matrix dot product\n",
        "we saw in chapter 2:\n",
        "\n",
        "$$(93 \\times –1) + (139 \\times 0) + (101 \\times 1) + (26 \\times –2) + (252 \\times 0) + (196 \\times 2) + (135 \\times –1) + (240 \\times 0) + (48 \\times 1) = 243$$\n",
        "\n",
        "The filter (or kernel) slides over the whole image. Each time, we multiply every corre-\n",
        "sponding pixel element-wise and then add them all together to create a new image with\n",
        "new pixel values. This convolved image is called a feature map or activation map."
      ],
      "metadata": {
        "id": "IF9L11ZwYYgq"
      }
    },
    {
      "cell_type": "markdown",
      "source": [
        "<img src=\"https://raw.githubusercontent.com/farrelrassya/teachingMLDL/main/02.%20Deep%20Learning/03.%20Week%2003/Figure%203.14.png\" width=\"700\">\n"
      ],
      "metadata": {
        "id": "5Uh1QHQdZCZ4"
      }
    },
    {
      "cell_type": "code",
      "source": [],
      "metadata": {
        "id": "iKjcqjDqV9-q"
      },
      "execution_count": null,
      "outputs": []
    }
  ]
}