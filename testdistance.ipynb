{
  "nbformat": 4,
  "nbformat_minor": 0,
  "metadata": {
    "colab": {
      "provenance": [],
      "authorship_tag": "ABX9TyOTboKqCsnI8afqMV9MnGj5",
      "include_colab_link": true
    },
    "kernelspec": {
      "name": "python3",
      "display_name": "Python 3"
    },
    "language_info": {
      "name": "python"
    }
  },
  "cells": [
    {
      "cell_type": "markdown",
      "metadata": {
        "id": "view-in-github",
        "colab_type": "text"
      },
      "source": [
        "<a href=\"https://colab.research.google.com/github/farrelrassya/teachingMLDL/blob/main/testdistance.ipynb\" target=\"_parent\"><img src=\"https://colab.research.google.com/assets/colab-badge.svg\" alt=\"Open In Colab\"/></a>"
      ]
    },
    {
      "cell_type": "markdown",
      "source": [
        "# Distance and Similarity Formulas\n",
        "\n",
        "Here are some commonly used distance and similarity formulas in Machine Learning and NLP, written in LaTeX style.  \n",
        "Just paste this into a **Markdown cell** in Google Colab, and you'll see the rendered math.\n",
        "\n",
        "---\n",
        "\n",
        "## 1. Euclidean Distance\n",
        "\n",
        "For two points \\(p_1\\) and \\(p_2\\) in \\(\\mathbb{R}^n\\):\n",
        "\n",
        "$$\n",
        "d_{\\text{Euclidean}}(p_1, p_2) = \\sqrt{\\sum_{i=1}^{n} \\left( x_i - y_i \\right)^2 }\n",
        "$$\n",
        "\n",
        "\n",
        "where Where $p_1 = (x_1, x_2, \\ldots, x_n)$ and $p_2 = (y_1, y_2, \\ldots, y_n)$.\n",
        "\n",
        "---\n",
        "\n",
        "## 2. Manhattan Distance\n",
        "\n",
        "Also known as L1 distance:\n",
        "\n",
        "$$\n",
        "d_{\\text{Manhattan}}(p_1, p_2) = \\sum_{i=1}^{n} \\big|x_i - y_i\\big|\n",
        "$$\n",
        "\n",
        "---\n",
        "\n",
        "## 3. Minkowski Distance\n",
        "\n",
        "A general form that includes Euclidean (p=2) and Manhattan (p=1):\n",
        "\n",
        "$$\n",
        "d_{\\text{Minkowski}}(p_1, p_2) = \\left( \\sum_{i=1}^{n} \\big|x_i - y_i\\big|^p \\right)^{\\frac{1}{p}}\n",
        "$$\n",
        "\n",
        "---\n",
        "\n",
        "## 4. Chebyshev Distance\n",
        "\n",
        "Takes the maximum difference along any dimension:\n",
        "\n",
        "$$\n",
        "d_{\\text{Chebyshev}}(p_1, p_2) = \\max_{1 \\le i \\le n} \\big|x_i - y_i\\big|\n",
        "$$\n",
        "\n",
        "---\n",
        "\n",
        "## 5. Cosine Similarity\n",
        "\n",
        "Often used for measuring similarity between vectors (e.g., in NLP):\n",
        "\n",
        "$$\n",
        "\\text{cos\\_sim}(p_1, p_2) = \\frac{p_1 \\cdot p_2}{\\|p_1\\| \\, \\|p_2\\|}\n",
        "$$\n",
        "\n",
        "where \\(p_1 \\cdot p_2 = \\sum_{i=1}^{n} x_i \\, y_i\\) and \\(\\|p_1\\| = \\sqrt{\\sum_{i=1}^{n} x_i^2}\\).\n",
        "\n",
        "---\n",
        "\n",
        "## 6. Jaccard Similarity and Distance\n",
        "\n",
        "For sets \\(A\\) and \\(B\\):\n",
        "\n",
        "$$\n",
        "\\text{Jaccard\\_sim}(A, B) = \\frac{\\lvert A \\cap B \\rvert}{\\lvert A \\cup B \\rvert}\n",
        "$$\n",
        "\n",
        "And the Jaccard distance is simply:\n",
        "\n",
        "$$\n",
        "\\text{Jaccard\\_dist}(A, B) = 1 - \\text{Jaccard\\_sim}(A, B)\n",
        "$$\n",
        "\n",
        "---\n",
        "\n",
        "**Quick Reference**  \n",
        "- **Euclidean** (L2): Typical “straight-line” distance.  \n",
        "- **Manhattan** (L1): Sum of absolute differences.  \n",
        "- **Minkowski**: General form with parameter \\(p\\).  \n",
        "- **Chebyshev** (L∞): Maximum absolute difference.  \n",
        "- **Cosine Similarity**: Ratio of dot product to product of magnitudes.  \n",
        "- **Jaccard**: Intersection over Union, commonly used for sets.  \n",
        "\n",
        "Happy coding and good luck with your ML/NLP explorations!\n"
      ],
      "metadata": {
        "id": "9SboeFaKfwaF"
      }
    },
    {
      "cell_type": "code",
      "execution_count": null,
      "metadata": {
        "id": "-dFV7x55foVC"
      },
      "outputs": [],
      "source": []
    }
  ]
}